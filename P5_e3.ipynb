{
  "nbformat": 4,
  "nbformat_minor": 0,
  "metadata": {
    "accelerator": "GPU",
    "colab": {
      "name": "P5_e2.ipynb",
      "provenance": [],
      "collapsed_sections": []
    },
    "kernelspec": {
      "display_name": "Python 3",
      "language": "python",
      "name": "python3"
    },
    "language_info": {
      "codemirror_mode": {
        "name": "ipython",
        "version": 3
      },
      "file_extension": ".py",
      "mimetype": "text/x-python",
      "name": "python",
      "nbconvert_exporter": "python",
      "pygments_lexer": "ipython3",
      "version": "3.8.3"
    },
    "nbTranslate": {
      "displayLangs": [
        "es",
        "en"
      ],
      "hotkey": "alt-t",
      "langInMainMenu": true,
      "sourceLang": "en",
      "targetLang": "es",
      "useGoogleTranslate": true
    },
    "toc": {
      "base_numbering": 1,
      "nav_menu": {
        "height": "48px",
        "width": "252px"
      },
      "number_sections": true,
      "sideBar": true,
      "skip_h1_title": true,
      "title_cell": "Table of Contents",
      "title_sidebar": "Contents",
      "toc_cell": false,
      "toc_position": {
        "height": "calc(100% - 180px)",
        "left": "10px",
        "top": "150px",
        "width": "358.367px"
      },
      "toc_section_display": "block",
      "toc_window_display": false
    },
    "widgets": {
      "application/vnd.jupyter.widget-state+json": {
        "fbd899196ae8437a8c2bc8eee58fdbc6": {
          "model_module": "@jupyter-widgets/controls",
          "model_name": "HBoxModel",
          "state": {
            "_view_name": "HBoxView",
            "_dom_classes": [],
            "_model_name": "HBoxModel",
            "_view_module": "@jupyter-widgets/controls",
            "_model_module_version": "1.5.0",
            "_view_count": null,
            "_view_module_version": "1.5.0",
            "box_style": "",
            "layout": "IPY_MODEL_76920899ffbb4c02a65211940ba7622d",
            "_model_module": "@jupyter-widgets/controls",
            "children": [
              "IPY_MODEL_48a62f6969704759974d446d35846bb0",
              "IPY_MODEL_e962a66595324b68a690d49ff10651b6"
            ]
          }
        },
        "76920899ffbb4c02a65211940ba7622d": {
          "model_module": "@jupyter-widgets/base",
          "model_name": "LayoutModel",
          "state": {
            "_view_name": "LayoutView",
            "grid_template_rows": null,
            "right": null,
            "justify_content": null,
            "_view_module": "@jupyter-widgets/base",
            "overflow": null,
            "_model_module_version": "1.2.0",
            "_view_count": null,
            "flex_flow": null,
            "width": null,
            "min_width": null,
            "border": null,
            "align_items": null,
            "bottom": null,
            "_model_module": "@jupyter-widgets/base",
            "top": null,
            "grid_column": null,
            "overflow_y": null,
            "overflow_x": null,
            "grid_auto_flow": null,
            "grid_area": null,
            "grid_template_columns": null,
            "flex": null,
            "_model_name": "LayoutModel",
            "justify_items": null,
            "grid_row": null,
            "max_height": null,
            "align_content": null,
            "visibility": null,
            "align_self": null,
            "height": null,
            "min_height": null,
            "padding": null,
            "grid_auto_rows": null,
            "grid_gap": null,
            "max_width": null,
            "order": null,
            "_view_module_version": "1.2.0",
            "grid_template_areas": null,
            "object_position": null,
            "object_fit": null,
            "grid_auto_columns": null,
            "margin": null,
            "display": null,
            "left": null
          }
        },
        "48a62f6969704759974d446d35846bb0": {
          "model_module": "@jupyter-widgets/controls",
          "model_name": "FloatProgressModel",
          "state": {
            "_view_name": "ProgressView",
            "style": "IPY_MODEL_d64d5671761f4f23b5d23c04cdf32c99",
            "_dom_classes": [],
            "description": "100%",
            "_model_name": "FloatProgressModel",
            "bar_style": "success",
            "max": 6335,
            "_view_module": "@jupyter-widgets/controls",
            "_model_module_version": "1.5.0",
            "value": 6335,
            "_view_count": null,
            "_view_module_version": "1.5.0",
            "orientation": "horizontal",
            "min": 0,
            "description_tooltip": null,
            "_model_module": "@jupyter-widgets/controls",
            "layout": "IPY_MODEL_bdd419b897bf4b15b86fc02c6d23d38f"
          }
        },
        "e962a66595324b68a690d49ff10651b6": {
          "model_module": "@jupyter-widgets/controls",
          "model_name": "HTMLModel",
          "state": {
            "_view_name": "HTMLView",
            "style": "IPY_MODEL_c46717d5c25448259f024ed5f60780c3",
            "_dom_classes": [],
            "description": "",
            "_model_name": "HTMLModel",
            "placeholder": "​",
            "_view_module": "@jupyter-widgets/controls",
            "_model_module_version": "1.5.0",
            "value": " 6335/6335 [06:53&lt;00:00, 15.33it/s]",
            "_view_count": null,
            "_view_module_version": "1.5.0",
            "description_tooltip": null,
            "_model_module": "@jupyter-widgets/controls",
            "layout": "IPY_MODEL_358b3fb99b8342229e26a9160e993ba1"
          }
        },
        "d64d5671761f4f23b5d23c04cdf32c99": {
          "model_module": "@jupyter-widgets/controls",
          "model_name": "ProgressStyleModel",
          "state": {
            "_view_name": "StyleView",
            "_model_name": "ProgressStyleModel",
            "description_width": "initial",
            "_view_module": "@jupyter-widgets/base",
            "_model_module_version": "1.5.0",
            "_view_count": null,
            "_view_module_version": "1.2.0",
            "bar_color": null,
            "_model_module": "@jupyter-widgets/controls"
          }
        },
        "bdd419b897bf4b15b86fc02c6d23d38f": {
          "model_module": "@jupyter-widgets/base",
          "model_name": "LayoutModel",
          "state": {
            "_view_name": "LayoutView",
            "grid_template_rows": null,
            "right": null,
            "justify_content": null,
            "_view_module": "@jupyter-widgets/base",
            "overflow": null,
            "_model_module_version": "1.2.0",
            "_view_count": null,
            "flex_flow": null,
            "width": null,
            "min_width": null,
            "border": null,
            "align_items": null,
            "bottom": null,
            "_model_module": "@jupyter-widgets/base",
            "top": null,
            "grid_column": null,
            "overflow_y": null,
            "overflow_x": null,
            "grid_auto_flow": null,
            "grid_area": null,
            "grid_template_columns": null,
            "flex": null,
            "_model_name": "LayoutModel",
            "justify_items": null,
            "grid_row": null,
            "max_height": null,
            "align_content": null,
            "visibility": null,
            "align_self": null,
            "height": null,
            "min_height": null,
            "padding": null,
            "grid_auto_rows": null,
            "grid_gap": null,
            "max_width": null,
            "order": null,
            "_view_module_version": "1.2.0",
            "grid_template_areas": null,
            "object_position": null,
            "object_fit": null,
            "grid_auto_columns": null,
            "margin": null,
            "display": null,
            "left": null
          }
        },
        "c46717d5c25448259f024ed5f60780c3": {
          "model_module": "@jupyter-widgets/controls",
          "model_name": "DescriptionStyleModel",
          "state": {
            "_view_name": "StyleView",
            "_model_name": "DescriptionStyleModel",
            "description_width": "",
            "_view_module": "@jupyter-widgets/base",
            "_model_module_version": "1.5.0",
            "_view_count": null,
            "_view_module_version": "1.2.0",
            "_model_module": "@jupyter-widgets/controls"
          }
        },
        "358b3fb99b8342229e26a9160e993ba1": {
          "model_module": "@jupyter-widgets/base",
          "model_name": "LayoutModel",
          "state": {
            "_view_name": "LayoutView",
            "grid_template_rows": null,
            "right": null,
            "justify_content": null,
            "_view_module": "@jupyter-widgets/base",
            "overflow": null,
            "_model_module_version": "1.2.0",
            "_view_count": null,
            "flex_flow": null,
            "width": null,
            "min_width": null,
            "border": null,
            "align_items": null,
            "bottom": null,
            "_model_module": "@jupyter-widgets/base",
            "top": null,
            "grid_column": null,
            "overflow_y": null,
            "overflow_x": null,
            "grid_auto_flow": null,
            "grid_area": null,
            "grid_template_columns": null,
            "flex": null,
            "_model_name": "LayoutModel",
            "justify_items": null,
            "grid_row": null,
            "max_height": null,
            "align_content": null,
            "visibility": null,
            "align_self": null,
            "height": null,
            "min_height": null,
            "padding": null,
            "grid_auto_rows": null,
            "grid_gap": null,
            "max_width": null,
            "order": null,
            "_view_module_version": "1.2.0",
            "grid_template_areas": null,
            "object_position": null,
            "object_fit": null,
            "grid_auto_columns": null,
            "margin": null,
            "display": null,
            "left": null
          }
        }
      }
    }
  },
  "cells": [
    {
      "cell_type": "markdown",
      "metadata": {
        "colab_type": "text",
        "id": "D-YiltMLCEeT"
      },
      "source": [
        "# MA6202: Laboratorio de Ciencia de Datos\n",
        "\n",
        "**Profesor: Nicolás Caro**\n",
        "\n",
        "**20/07/2020 - E3 S15**\n",
        "\n",
        "\n",
        "**Integrantes del grupo**:  "
      ]
    },
    {
      "cell_type": "markdown",
      "metadata": {
        "colab_type": "text",
        "id": "zejcg_ArCEeW"
      },
      "source": [
        "## Ejercicio 3"
      ]
    },
    {
      "cell_type": "markdown",
      "metadata": {
        "colab_type": "text",
        "id": "unIMQSF-CEeZ"
      },
      "source": [
        "El objetivo de esta evaluación es resolver un problema de detección de noticias falsas (*Fake News*) usando herramientas de aprendizaje de máquinas. \n",
        "\n",
        "Para lograr una representación numérica de los textos utilizaremos la librería `spaCy` para procesamiento de lenguaje natural. "
      ]
    },
    {
      "cell_type": "markdown",
      "metadata": {
        "colab_type": "text",
        "id": "CFE7fvkSCEeb"
      },
      "source": [
        "**Instalaciones previas**  \n",
        "Para la ejecución correcta de este notebook puede ser necesario ejecutar los siguientes comandos de instalación:\n",
        "\n",
        "```python\n",
        "!pip install spacy tqdm\n",
        "!pip install -c pytorch torchtext\n",
        "!python -m spacy download en_core_web_sm\n",
        "```\n",
        "**Obs:** Puede usar conda en vez de pip si maneja su librería con esta herramienta. \n",
        "\n",
        "Las librerías que se instalan son:\n",
        "- spacy: ampliamente usada para procesamiento de lenguaje natural. Esta librería posee modelos estadísticos preentrenados como `en_core_web_sm` que será detallado posteriormente.\n",
        "- tqdm: para mostrar barras de progreso en pantalla.\n",
        "- torchtext: contiene en herramientas populares de procesamiento de lenguaje natural."
      ]
    },
    {
      "cell_type": "markdown",
      "metadata": {
        "colab_type": "text",
        "id": "2kixIAB7CEed"
      },
      "source": [
        "**Librerías**  \n",
        "En la evaluación, **no** estará permitido usar librerías ni módulos diferentes a los declarados en la siguiente celda."
      ]
    },
    {
      "cell_type": "code",
      "metadata": {
        "colab_type": "code",
        "id": "9mDw369JCEef",
        "colab": {
          "base_uri": "https://localhost:8080/",
          "height": 70
        },
        "outputId": "3acf7070-4e82-4ce2-975e-0025a76821e2"
      },
      "source": [
        "import matplotlib.pyplot as plt\n",
        "import pandas as pd\n",
        "import torch\n",
        "import torch.nn as nn\n",
        "import torch.optim as optim\n",
        "import seaborn as sns\n",
        "import spacy\n",
        "import os\n",
        "import numpy as np\n",
        "import pickle as pk\n",
        "\n",
        "from tqdm.notebook import tqdm\n",
        "\n",
        "from sklearn.feature_extraction.text import CountVectorizer, TfidfVectorizer\n",
        "from sklearn.metrics import accuracy_score, classification_report,\\\n",
        "    confusion_matrix\n",
        "from sklearn.model_selection import GridSearchCV, train_test_split\n",
        "from sklearn.naive_bayes import MultinomialNB\n",
        "from sklearn.pipeline import Pipeline\n",
        "from sklearn.svm import SVC\n",
        "\n",
        "from torch.nn.utils.rnn import pack_padded_sequence, pad_packed_sequence\n",
        "from torchtext.data import Field, TabularDataset, BucketIterator\n",
        "from torchtext.vocab import GloVe\n",
        "\n",
        "'''\n",
        "Puede utilizar esta extension si trabaja en colaboratory:\n",
        "from google.colab import drive\n",
        "drive.mount('/content/drive')\n",
        "''';\n",
        "#from google.colab import drive\n",
        "#drive.mount('/content/drive')\n",
        "#os.chdir(os.getcwd()+'/drive/My Drive/MA6202/E3')"
      ],
      "execution_count": 1,
      "outputs": [
        {
          "output_type": "stream",
          "text": [
            "/usr/local/lib/python3.6/dist-packages/statsmodels/tools/_testing.py:19: FutureWarning: pandas.util.testing is deprecated. Use the functions in the public API at pandas.testing instead.\n",
            "  import pandas.util.testing as tm\n"
          ],
          "name": "stderr"
        }
      ]
    },
    {
      "cell_type": "markdown",
      "metadata": {
        "colab_type": "text",
        "id": "rA4Rg0XfCEeq"
      },
      "source": [
        "**Replicabilidad**  \n",
        "A lo largo de todo el ejercicio llamaremos múltiples veces a la función `np.random.seed`, con la semilla fija en la variable `seed_=300`"
      ]
    },
    {
      "cell_type": "code",
      "metadata": {
        "colab_type": "code",
        "id": "j5gBzo2SCEes",
        "colab": {}
      },
      "source": [
        "seed_ = 300\n",
        "np.random.seed(seed_)"
      ],
      "execution_count": 2,
      "outputs": []
    },
    {
      "cell_type": "markdown",
      "metadata": {
        "colab_type": "text",
        "id": "4ML4pIcNTjIy"
      },
      "source": [
        "**Uso de GPU**  \n",
        "En este ejercicio se utilizarán modelos que requieren alto poder de computo por lo que se recomienda usar GPU. Recuerde que en **Colaboratory** tiene acceso gratuito a dicho recurso.  "
      ]
    },
    {
      "cell_type": "code",
      "metadata": {
        "colab_type": "code",
        "id": "OVVP3vtvUFSY",
        "colab": {
          "base_uri": "https://localhost:8080/",
          "height": 33
        },
        "outputId": "02764940-f3bc-4108-b079-c1eb5cee9baf"
      },
      "source": [
        "device = torch.device('cuda:0' if torch.cuda.is_available() else 'cpu')\n",
        "device"
      ],
      "execution_count": 3,
      "outputs": [
        {
          "output_type": "execute_result",
          "data": {
            "text/plain": [
              "device(type='cuda', index=0)"
            ]
          },
          "metadata": {
            "tags": []
          },
          "execution_count": 3
        }
      ]
    },
    {
      "cell_type": "markdown",
      "metadata": {
        "colab_type": "text",
        "id": "8wc0YidsCEez"
      },
      "source": [
        "## Preliminares\n",
        "\n",
        "### Carga de datos\n"
      ]
    },
    {
      "cell_type": "markdown",
      "metadata": {
        "colab_type": "text",
        "id": "QTqNQrWP34mq"
      },
      "source": [
        "- Compruebe que la siguiente celda coincide con este output:\n",
        "\n",
        "```\n",
        "<class 'pandas.core.frame.DataFrame'>\n",
        "Int64Index: 6335 entries, 8476 to 4330\n",
        "Data columns (total 3 columns):\n",
        " #   Column  Non-Null Count  Dtype \n",
        "---  ------  --------------  ----- \n",
        " 0   title   6335 non-null   object\n",
        " 1   text    6335 non-null   object\n",
        " 2   label   6335 non-null   object\n",
        "dtypes: object(3)\n",
        "memory usage: 198.0+ KB\n",
        "```"
      ]
    },
    {
      "cell_type": "code",
      "metadata": {
        "colab_type": "code",
        "id": "FpKqWXBvCEe0",
        "colab": {
          "base_uri": "https://localhost:8080/",
          "height": 180
        },
        "outputId": "55e74c9d-41bb-41a3-e849-a891a0068bbe"
      },
      "source": [
        "raw_data_path = 'https://raw.githubusercontent.com/NicoCaro/DataScienceLab/master/ejercicios/ejercicio%203/data/news.csv'\n",
        "raw_df = pd.read_csv(raw_data_path, index_col=0)\n",
        "raw_df.info()"
      ],
      "execution_count": 4,
      "outputs": [
        {
          "output_type": "stream",
          "text": [
            "<class 'pandas.core.frame.DataFrame'>\n",
            "Int64Index: 6335 entries, 8476 to 4330\n",
            "Data columns (total 3 columns):\n",
            " #   Column  Non-Null Count  Dtype \n",
            "---  ------  --------------  ----- \n",
            " 0   title   6335 non-null   object\n",
            " 1   text    6335 non-null   object\n",
            " 2   label   6335 non-null   object\n",
            "dtypes: object(3)\n",
            "memory usage: 198.0+ KB\n"
          ],
          "name": "stdout"
        }
      ]
    },
    {
      "cell_type": "markdown",
      "metadata": {
        "colab_type": "text",
        "id": "jHVO5t1KCEe7"
      },
      "source": [
        "**Preprocesamiento**  \n",
        "El conjunto de datos consta de 3 columnas:\n",
        "- `title`: contiene el título de la noticia\n",
        "- `text`: contiene el teto de la noticia\n",
        "- `label`: contiene las etiquetas `REAL` y `FAKE` que indican si se trata de una noticia verdadera o falsa.\n",
        "\n",
        "En la siguiente celda se incluye la columna `X` con una concatenación del título y el texto de las noticias, además de la columna `y` como una representación numérica de la columna `label`."
      ]
    },
    {
      "cell_type": "code",
      "metadata": {
        "colab_type": "code",
        "id": "XrFTxJiwCEe8",
        "colab": {
          "base_uri": "https://localhost:8080/",
          "height": 191
        },
        "outputId": "dcfaf5ad-99c4-4ca7-80b9-ae37ace71bf5"
      },
      "source": [
        "pro_df = raw_df.copy()\n",
        "pro_df['y'] = (pro_df['label'] == 'FAKE').astype('int')\n",
        "pro_df['X'] = pro_df['title'].str.cat(pro_df['text'], sep='. ')\n",
        "\n",
        "# se eliminan las columnas innecesarias\n",
        "pro_df = pro_df.reindex(columns=['X', 'y'])\n",
        "display(pro_df.head())"
      ],
      "execution_count": 5,
      "outputs": [
        {
          "output_type": "display_data",
          "data": {
            "text/html": [
              "<div>\n",
              "<style scoped>\n",
              "    .dataframe tbody tr th:only-of-type {\n",
              "        vertical-align: middle;\n",
              "    }\n",
              "\n",
              "    .dataframe tbody tr th {\n",
              "        vertical-align: top;\n",
              "    }\n",
              "\n",
              "    .dataframe thead th {\n",
              "        text-align: right;\n",
              "    }\n",
              "</style>\n",
              "<table border=\"1\" class=\"dataframe\">\n",
              "  <thead>\n",
              "    <tr style=\"text-align: right;\">\n",
              "      <th></th>\n",
              "      <th>X</th>\n",
              "      <th>y</th>\n",
              "    </tr>\n",
              "  </thead>\n",
              "  <tbody>\n",
              "    <tr>\n",
              "      <th>8476</th>\n",
              "      <td>You Can Smell Hillary’s Fear. Daniel Greenfiel...</td>\n",
              "      <td>1</td>\n",
              "    </tr>\n",
              "    <tr>\n",
              "      <th>10294</th>\n",
              "      <td>Watch The Exact Moment Paul Ryan Committed Pol...</td>\n",
              "      <td>1</td>\n",
              "    </tr>\n",
              "    <tr>\n",
              "      <th>3608</th>\n",
              "      <td>Kerry to go to Paris in gesture of sympathy. U...</td>\n",
              "      <td>0</td>\n",
              "    </tr>\n",
              "    <tr>\n",
              "      <th>10142</th>\n",
              "      <td>Bernie supporters on Twitter erupt in anger ag...</td>\n",
              "      <td>1</td>\n",
              "    </tr>\n",
              "    <tr>\n",
              "      <th>875</th>\n",
              "      <td>The Battle of New York: Why This Primary Matte...</td>\n",
              "      <td>0</td>\n",
              "    </tr>\n",
              "  </tbody>\n",
              "</table>\n",
              "</div>"
            ],
            "text/plain": [
              "                                                       X  y\n",
              "8476   You Can Smell Hillary’s Fear. Daniel Greenfiel...  1\n",
              "10294  Watch The Exact Moment Paul Ryan Committed Pol...  1\n",
              "3608   Kerry to go to Paris in gesture of sympathy. U...  0\n",
              "10142  Bernie supporters on Twitter erupt in anger ag...  1\n",
              "875    The Battle of New York: Why This Primary Matte...  0"
            ]
          },
          "metadata": {
            "tags": []
          }
        }
      ]
    },
    {
      "cell_type": "markdown",
      "metadata": {
        "colab_type": "text",
        "id": "dX2EcoxICEfC"
      },
      "source": [
        "### Procesamiento de texto\n",
        "A modo de ejemplo se muestra el procesamiento que se busca aplicar a cada una de las observaciones de la columna `X`."
      ]
    },
    {
      "cell_type": "code",
      "metadata": {
        "colab_type": "code",
        "id": "-RUH-Z0KCEfE",
        "colab": {
          "base_uri": "https://localhost:8080/",
          "height": 135
        },
        "outputId": "f81db5b8-bb37-4d24-dac4-289f078a3d35"
      },
      "source": [
        "x_muestra, y_muestra = pro_df.iloc[3].values.T\n",
        "print('Noticia falsa' if y_muestra else 'Noticia verdadera', '-' * 72,  sep='\\n')\n",
        "print(x_muestra[:501], '...')"
      ],
      "execution_count": 6,
      "outputs": [
        {
          "output_type": "stream",
          "text": [
            "Noticia falsa\n",
            "------------------------------------------------------------------------\n",
            "Bernie supporters on Twitter erupt in anger against the DNC: 'We tried to warn you!'. — Kaydee King (@KaydeeKing) November 9, 2016 The lesson from tonight's Dem losses: Time for Democrats to start listening to the voters. Stop running the same establishment candidates. \n",
            "— People For Bernie (@People4Bernie) November 9, 2016 If Dems didn't want a tight race they shouldn't have worked against Bernie. \n",
            "— Walker Bragman (@WalkerBragman) November 9, 2016 \n",
            "New York Times columnist Paul Krugman, who was  ...\n"
          ],
          "name": "stdout"
        }
      ]
    },
    {
      "cell_type": "markdown",
      "metadata": {
        "colab_type": "text",
        "id": "jgLJ3uE1CEfJ"
      },
      "source": [
        "**Definición del modelo `spacy`**  \n",
        "El modelo estadístico de `spacy` que usaremos en el ejercicio es `english_web_sm`, que consiste en un objeto basado en una red convolucional, preentrenada en un conjunto de datos llamado Ontowords y diseñada para resolver múltiples tareas de procesamiento de lenguaje natural, dento de sus métodos se encuentran rutinas de tokenización y lematización detalladas posteriormente.\n",
        "\n",
        "Dentro de las funcionalidades que entrega este modelo, hay un subconjunto que no se utilizará en el ejercicio. Para ahorrar tiempo de cómputo, estas funcionalidades son deshabilitadas en el  el argumento `disable`.\n",
        "\n",
        "**Obs:** Puede ser necesario ejecutar `python -m spacy download en_core_web_sm` para tener acceso a tal modelo de lenguaje."
      ]
    },
    {
      "cell_type": "code",
      "metadata": {
        "colab_type": "code",
        "id": "DhOaF6SDCEfK",
        "colab": {
          "base_uri": "https://localhost:8080/",
          "height": 33
        },
        "outputId": "bbd41fcd-f348-4ee5-c3b0-5172f75c4574"
      },
      "source": [
        "nlp = spacy.load('en_core_web_sm', disable=['entitry_ruler', 'textcat', \n",
        "                                            'entity_linker', 'ner', 'tagger'])\n",
        "print(type(nlp))"
      ],
      "execution_count": 7,
      "outputs": [
        {
          "output_type": "stream",
          "text": [
            "<class 'spacy.lang.en.English'>\n"
          ],
          "name": "stdout"
        }
      ]
    },
    {
      "cell_type": "markdown",
      "metadata": {
        "colab_type": "text",
        "id": "aUcaWEY4CEfP"
      },
      "source": [
        "**Tokenización**  \n",
        "\n",
        "Lo primero para analizar texto es separar el campo de texto en _tokens_. Un _token_ es un segmento significativo del texto. La entrada al tokenizer es un texto unicode, y la salida es un `spacy.tokens.doc.Doc`.\n",
        "\n",
        "\n",
        "El proceso puede entenderse como:\n",
        "1. Aplicar el método `str.split(' ')` que entrega una lista de `str`.\n",
        "2. Verificar si cada uno de los elementos de la lista puede subdividirse:\n",
        "    1. **Porque se trata de una regla de excepción.** Por ejemplo `don't` debería subdividirse en `do` y `n't`, mientras que `U.K.` no debe subdividirse.\n",
        "    2. **Porque el elemento contiene prefijos, sufijos o [infijos](https://dle.rae.es/infijo).** Por ejemplo comillas, comas, puntos, etc...\n",
        "    \n",
        "Para más detalles ver la documentación de [spacy](https://spacy.io/usage/linguistic-features#tokenization).\n",
        "\n",
        "Así al generar *tokens* en `x_muestra`, los 20 primeros son: "
      ]
    },
    {
      "cell_type": "code",
      "metadata": {
        "colab_type": "code",
        "id": "JRloFA6CCEfP",
        "colab": {
          "base_uri": "https://localhost:8080/",
          "height": 342
        },
        "outputId": "24345098-0d55-45a7-ffd4-d03beb3ce29c"
      },
      "source": [
        "spacy_doc = nlp(x_muestra)\n",
        "[print(token) for token in spacy_doc[:20]];"
      ],
      "execution_count": 8,
      "outputs": [
        {
          "output_type": "stream",
          "text": [
            "Bernie\n",
            "supporters\n",
            "on\n",
            "Twitter\n",
            "erupt\n",
            "in\n",
            "anger\n",
            "against\n",
            "the\n",
            "DNC\n",
            ":\n",
            "'\n",
            "We\n",
            "tried\n",
            "to\n",
            "warn\n",
            "you\n",
            "!\n",
            "'\n",
            ".\n"
          ],
          "name": "stdout"
        }
      ]
    },
    {
      "cell_type": "markdown",
      "metadata": {
        "colab_type": "text",
        "id": "oB5xDaiXCEfW"
      },
      "source": [
        "**Lematización**  \n",
        "La [lematización](https://es.wikipedia.org/wiki/Lematizaci%C3%B3n) es el proceso de agrupar las formas flexionadas de una palabra (en plural, en femenino, conjugada, etc), para que puedan analizarse como un solo elemento, identificado por el **lema** de la palabra.\n",
        "\n",
        "En procesamiento de lenguaje natural a lematización depende de la identificación correcta de la [categoría gramatical](https://es.wikipedia.org/wiki/Categor%C3%ADa_gramatical) (*part of speech*). Algunos ejemplos de categoría gramatical son sustantivo, adjetivo, verbo, advervio, etc...\n",
        "\n",
        "En `spacy` accedemos al lema mediante el atributo `lemma_`. Así, para los 20 primeros *tokens*:"
      ]
    },
    {
      "cell_type": "code",
      "metadata": {
        "colab_type": "code",
        "id": "AKskjZS8CEfW",
        "colab": {
          "base_uri": "https://localhost:8080/",
          "height": 342
        },
        "outputId": "c54a1698-227b-4f62-de91-abb090505829"
      },
      "source": [
        "[print(token.lemma_) for token in spacy_doc[:20]];"
      ],
      "execution_count": 9,
      "outputs": [
        {
          "output_type": "stream",
          "text": [
            "Bernie\n",
            "supporter\n",
            "on\n",
            "Twitter\n",
            "erupt\n",
            "in\n",
            "anger\n",
            "against\n",
            "the\n",
            "DNC\n",
            ":\n",
            "'\n",
            "We\n",
            "try\n",
            "to\n",
            "warn\n",
            "you\n",
            "!\n",
            "'\n",
            ".\n"
          ],
          "name": "stdout"
        }
      ]
    },
    {
      "cell_type": "markdown",
      "metadata": {
        "colab_type": "text",
        "id": "T0jrekzgCEfb"
      },
      "source": [
        "**Stopwords**  \n",
        "Los *tokens* generados pueden ser clasificados como [palabras vacías](https://es.wikipedia.org/wiki/Palabra_vac%C3%ADa) (*stop words*) que no tienen significado en si mismas. Algunos ejemplos son preposiciones, artículos, pronombres, etc... En procesamiento de lenguaje natural es común eliminarlas.\n",
        "\n",
        "Para este ejercicio eliminaremos las *palabras vacías* mediante el atributo `is_stop`, además de los *token* que no sean alfanuméricos mediante el atributo `is_alpha`. "
      ]
    },
    {
      "cell_type": "code",
      "metadata": {
        "colab_type": "code",
        "id": "HuBvA32OCEfc",
        "colab": {
          "base_uri": "https://localhost:8080/",
          "height": 147
        },
        "outputId": "80a71a63-1f67-469e-f524-0f8441910450"
      },
      "source": [
        "[print(token) for token in spacy_doc[:20] if (not token.is_stop) and token.is_alpha];"
      ],
      "execution_count": 10,
      "outputs": [
        {
          "output_type": "stream",
          "text": [
            "Bernie\n",
            "supporters\n",
            "Twitter\n",
            "erupt\n",
            "anger\n",
            "DNC\n",
            "tried\n",
            "warn\n"
          ],
          "name": "stdout"
        }
      ]
    },
    {
      "cell_type": "markdown",
      "metadata": {
        "colab_type": "text",
        "id": "A3x2F0cVCEfi"
      },
      "source": [
        "#### Pregunta 1\n",
        "1. Defina la función `procesa_texto` que reciba como argumento un texto y un modelo de lenguaje `spacy`. La función `procesa_texto` debe entregar un texto con los lemas de cada *token*, eliminando las palabras vacías y los *token* que no sean alfanuméricos, usando el procedimiento recién presentado. El texto obtenido debe separar los lemas por espacios `' '`.\n",
        "2. Aplique dicha función a la columna `X`, guardando sus resultados en la columna `pro_X`. Como modelo de lenguaje `spacy`, utilice el modelo instanciado anteriormente.  \n",
        "    **Observaciones**:\n",
        "    - Es usual que esta operación tome bastante tiempo por lo que recomendamos usar el método `progress_apply` de pandas que permite reportar el progreso de la operación mediante la librería `tqdm`. Para habilitar dicho método de la librería pandas debe primero llamar al método `tqdm.pandas`.\n",
        "    - Puede ser útil guardar el resultado de esta operación en disco, dado el tiempo que toma repetir la operación. "
      ]
    },
    {
      "cell_type": "code",
      "metadata": {
        "colab_type": "code",
        "id": "EWXqJHA3CEfj",
        "colab": {}
      },
      "source": [
        "# 1\n",
        "def procesa_texto(text,spacymodel):\n",
        "  ''' Reduce un texto general a uno reducido con los lemas de cada token.\n",
        "  '''\n",
        "  spacy_doc = spacymodel(text)\n",
        "  stringlist = [token.lemma_ for token in spacy_doc if (not token.is_stop) and token.is_alpha]\n",
        "\n",
        "  return ' '.join(stringlist)"
      ],
      "execution_count": 11,
      "outputs": []
    },
    {
      "cell_type": "code",
      "metadata": {
        "id": "tgMyTtwgbBsY",
        "colab_type": "code",
        "colab": {
          "base_uri": "https://localhost:8080/",
          "height": 132
        },
        "outputId": "76d0357c-b0d2-43ea-bdd8-8431fbd143e8"
      },
      "source": [
        "procesa_texto(x_muestra,nlp)"
      ],
      "execution_count": 12,
      "outputs": [
        {
          "output_type": "execute_result",
          "data": {
            "application/vnd.google.colaboratory.intrinsic+json": {
              "type": "string"
            },
            "text/plain": [
              "'Bernie supporter Twitter erupt anger DNC try warn Kaydee King November lesson tonight Dem loss Time Democrats start listen voter Stop run establishment candidate People Bernie November Dems want tight race work Bernie Walker Bragman November New York Times columnist Paul Krugman Hillary Clinton outspoken surrogate contentious Democratic primary blame Clinton poor performance Green Party candidate Jill Stein far receive negligible numb vote nationally say Stein Ralph Nader prevent Clinton victory account throw Krugman analysis face candidate issue responsibility Teachers Bernie November Ana Navarro Republican recently endorse Hillary Clinton sum preposterous nature presidential election tweet GOP nominate damn candidate lose Hillary Clinton Democrats nominate damn candidate lose Trump Ana Navarro November Popular leave wing Facebook page pro Sanders primary respond Trump surge simply post meme Sanders face text avoid Thanks DNC meme share time hour Posted Tuesday November Bernie Sanders endorse Hillary Clinton Democratic National Convention July supporter remain adamant refusal support DNC anoint candidate point WikiLeaks revelation official DNC work scene tip scale Clinton favor coordinate medium figure circulate anti Sanders narrative attribute potential Trump presidency GOP nominee perceive popularity voter closeness election credit Hillary Clinton unfavorable rating According RealClearPolitics percent voter negative opinion Democratic nominee PM Eastern Florida Michigan Pennsylvania Wisconsin remain close Clinton electoral vote Trump Zach Cartwright activist author Richmond Virginia enjoy write politic government medium Send email email protect'"
            ]
          },
          "metadata": {
            "tags": []
          },
          "execution_count": 12
        }
      ]
    },
    {
      "cell_type": "code",
      "metadata": {
        "id": "QkoPKcs1dSYW",
        "colab_type": "code",
        "colab": {}
      },
      "source": [
        "# 2\n",
        "tqdm.pandas()"
      ],
      "execution_count": 13,
      "outputs": []
    },
    {
      "cell_type": "code",
      "metadata": {
        "id": "IyoFEevZcZqY",
        "colab_type": "code",
        "colab": {
          "base_uri": "https://localhost:8080/",
          "height": 65,
          "referenced_widgets": [
            "fbd899196ae8437a8c2bc8eee58fdbc6",
            "76920899ffbb4c02a65211940ba7622d",
            "48a62f6969704759974d446d35846bb0",
            "e962a66595324b68a690d49ff10651b6",
            "d64d5671761f4f23b5d23c04cdf32c99",
            "bdd419b897bf4b15b86fc02c6d23d38f",
            "c46717d5c25448259f024ed5f60780c3",
            "358b3fb99b8342229e26a9160e993ba1"
          ]
        },
        "outputId": "df4e5f82-7c85-4397-c701-7ddc6cdbd7aa"
      },
      "source": [
        "# Se genera la columna de textos procesados 'pro_X'\n",
        "pro_df['pro_X'] = pro_df.loc[:,'X'].progress_apply(lambda x : procesa_texto(x,nlp))"
      ],
      "execution_count": 14,
      "outputs": [
        {
          "output_type": "display_data",
          "data": {
            "application/vnd.jupyter.widget-view+json": {
              "model_id": "fbd899196ae8437a8c2bc8eee58fdbc6",
              "version_minor": 0,
              "version_major": 2
            },
            "text/plain": [
              "HBox(children=(FloatProgress(value=0.0, max=6335.0), HTML(value='')))"
            ]
          },
          "metadata": {
            "tags": []
          }
        },
        {
          "output_type": "stream",
          "text": [
            "\n"
          ],
          "name": "stdout"
        }
      ]
    },
    {
      "cell_type": "code",
      "metadata": {
        "id": "zEgK0fcp3QSt",
        "colab_type": "code",
        "colab": {}
      },
      "source": [
        "os.makedirs('data')"
      ],
      "execution_count": 15,
      "outputs": []
    },
    {
      "cell_type": "code",
      "metadata": {
        "id": "UQzzySO5f7Kq",
        "colab_type": "code",
        "colab": {}
      },
      "source": [
        "# Se guarda el df generado en un archivo .pkl\n",
        "pro_df.to_pickle('./data/pro_df.pkl')\n",
        "\n",
        "# Se carga el df del archivo .pkl previamente guardado\n",
        "pro_df = pd.read_pickle(os.getcwd() + '/data/pro_df.pkl')"
      ],
      "execution_count": 16,
      "outputs": []
    },
    {
      "cell_type": "code",
      "metadata": {
        "id": "qNj4NWFKg73V",
        "colab_type": "code",
        "colab": {
          "base_uri": "https://localhost:8080/",
          "height": 191
        },
        "outputId": "ba82793d-9d27-48e6-9dea-44cff5c3a024"
      },
      "source": [
        "pro_df.head()"
      ],
      "execution_count": 17,
      "outputs": [
        {
          "output_type": "execute_result",
          "data": {
            "text/html": [
              "<div>\n",
              "<style scoped>\n",
              "    .dataframe tbody tr th:only-of-type {\n",
              "        vertical-align: middle;\n",
              "    }\n",
              "\n",
              "    .dataframe tbody tr th {\n",
              "        vertical-align: top;\n",
              "    }\n",
              "\n",
              "    .dataframe thead th {\n",
              "        text-align: right;\n",
              "    }\n",
              "</style>\n",
              "<table border=\"1\" class=\"dataframe\">\n",
              "  <thead>\n",
              "    <tr style=\"text-align: right;\">\n",
              "      <th></th>\n",
              "      <th>X</th>\n",
              "      <th>y</th>\n",
              "      <th>pro_X</th>\n",
              "    </tr>\n",
              "  </thead>\n",
              "  <tbody>\n",
              "    <tr>\n",
              "      <th>8476</th>\n",
              "      <td>You Can Smell Hillary’s Fear. Daniel Greenfiel...</td>\n",
              "      <td>1</td>\n",
              "      <td>Smell Hillary Fear Daniel Greenfield Shillman ...</td>\n",
              "    </tr>\n",
              "    <tr>\n",
              "      <th>10294</th>\n",
              "      <td>Watch The Exact Moment Paul Ryan Committed Pol...</td>\n",
              "      <td>1</td>\n",
              "      <td>Watch Exact Moment Paul Ryan Committed Politic...</td>\n",
              "    </tr>\n",
              "    <tr>\n",
              "      <th>3608</th>\n",
              "      <td>Kerry to go to Paris in gesture of sympathy. U...</td>\n",
              "      <td>0</td>\n",
              "      <td>Kerry Paris gesture sympathy Secretary State J...</td>\n",
              "    </tr>\n",
              "    <tr>\n",
              "      <th>10142</th>\n",
              "      <td>Bernie supporters on Twitter erupt in anger ag...</td>\n",
              "      <td>1</td>\n",
              "      <td>Bernie supporter Twitter erupt anger DNC try w...</td>\n",
              "    </tr>\n",
              "    <tr>\n",
              "      <th>875</th>\n",
              "      <td>The Battle of New York: Why This Primary Matte...</td>\n",
              "      <td>0</td>\n",
              "      <td>Battle New York Primary Matters primary day Ne...</td>\n",
              "    </tr>\n",
              "  </tbody>\n",
              "</table>\n",
              "</div>"
            ],
            "text/plain": [
              "                                                       X  ...                                              pro_X\n",
              "8476   You Can Smell Hillary’s Fear. Daniel Greenfiel...  ...  Smell Hillary Fear Daniel Greenfield Shillman ...\n",
              "10294  Watch The Exact Moment Paul Ryan Committed Pol...  ...  Watch Exact Moment Paul Ryan Committed Politic...\n",
              "3608   Kerry to go to Paris in gesture of sympathy. U...  ...  Kerry Paris gesture sympathy Secretary State J...\n",
              "10142  Bernie supporters on Twitter erupt in anger ag...  ...  Bernie supporter Twitter erupt anger DNC try w...\n",
              "875    The Battle of New York: Why This Primary Matte...  ...  Battle New York Primary Matters primary day Ne...\n",
              "\n",
              "[5 rows x 3 columns]"
            ]
          },
          "metadata": {
            "tags": []
          },
          "execution_count": 17
        }
      ]
    },
    {
      "cell_type": "markdown",
      "metadata": {
        "colab_type": "text",
        "id": "m_QePI5bCEfq"
      },
      "source": [
        "3. Cuente el número de lemas en cada observación de la columna `pro_X` y compruebe que obtiene las siguientes estadísticas descriptivas:\n",
        "\n",
        "```\n",
        "count    6335.000000\n",
        "mean      393.084294\n",
        "std       409.950812\n",
        "min         2.000000\n",
        "25%       153.000000\n",
        "50%       311.000000\n",
        "75%       515.000000\n",
        "max      8730.000000\n",
        "Name: pro_X, dtype: float64\n",
        "```\n",
        "*Hint*: puede ser útil el método `pd.Series.str.count`."
      ]
    },
    {
      "cell_type": "code",
      "metadata": {
        "colab_type": "code",
        "id": "MWGdXsbPD4ow",
        "colab": {
          "base_uri": "https://localhost:8080/",
          "height": 163
        },
        "outputId": "ffb8cd07-4104-46ae-dabc-acef1aa2fa36"
      },
      "source": [
        "# 3\n",
        "pro_df.loc[:,'pro_X'].str.count(pat=' ').describe()"
      ],
      "execution_count": 18,
      "outputs": [
        {
          "output_type": "execute_result",
          "data": {
            "text/plain": [
              "count    6335.000000\n",
              "mean      392.084294\n",
              "std       409.950812\n",
              "min         1.000000\n",
              "25%       152.000000\n",
              "50%       310.000000\n",
              "75%       514.000000\n",
              "max      8729.000000\n",
              "Name: pro_X, dtype: float64"
            ]
          },
          "metadata": {
            "tags": []
          },
          "execution_count": 18
        }
      ]
    },
    {
      "cell_type": "markdown",
      "metadata": {
        "colab_type": "text",
        "id": "U_nsPKTtCEfv"
      },
      "source": [
        "4. Instancie `final_df` como una copia de `pro_df` a la que se le elimina la columna `'X'`. Luego aplique la eliminación de los duplicados `final_df`.   \n",
        "- Compruebe que obtiene un total de 6,303 filas únicas en `final_df`.\n"
      ]
    },
    {
      "cell_type": "code",
      "metadata": {
        "colab_type": "code",
        "id": "_88ZW5V4D-7c",
        "colab": {
          "base_uri": "https://localhost:8080/",
          "height": 391
        },
        "outputId": "608f6628-406e-4eb2-bf8a-4c5b220cce5c"
      },
      "source": [
        "# 4\n",
        "final_df = pro_df.reindex(columns=['pro_X', 'y'], copy=True).drop_duplicates()\n",
        "final_df"
      ],
      "execution_count": 19,
      "outputs": [
        {
          "output_type": "execute_result",
          "data": {
            "text/html": [
              "<div>\n",
              "<style scoped>\n",
              "    .dataframe tbody tr th:only-of-type {\n",
              "        vertical-align: middle;\n",
              "    }\n",
              "\n",
              "    .dataframe tbody tr th {\n",
              "        vertical-align: top;\n",
              "    }\n",
              "\n",
              "    .dataframe thead th {\n",
              "        text-align: right;\n",
              "    }\n",
              "</style>\n",
              "<table border=\"1\" class=\"dataframe\">\n",
              "  <thead>\n",
              "    <tr style=\"text-align: right;\">\n",
              "      <th></th>\n",
              "      <th>pro_X</th>\n",
              "      <th>y</th>\n",
              "    </tr>\n",
              "  </thead>\n",
              "  <tbody>\n",
              "    <tr>\n",
              "      <th>8476</th>\n",
              "      <td>Smell Hillary Fear Daniel Greenfield Shillman ...</td>\n",
              "      <td>1</td>\n",
              "    </tr>\n",
              "    <tr>\n",
              "      <th>10294</th>\n",
              "      <td>Watch Exact Moment Paul Ryan Committed Politic...</td>\n",
              "      <td>1</td>\n",
              "    </tr>\n",
              "    <tr>\n",
              "      <th>3608</th>\n",
              "      <td>Kerry Paris gesture sympathy Secretary State J...</td>\n",
              "      <td>0</td>\n",
              "    </tr>\n",
              "    <tr>\n",
              "      <th>10142</th>\n",
              "      <td>Bernie supporter Twitter erupt anger DNC try w...</td>\n",
              "      <td>1</td>\n",
              "    </tr>\n",
              "    <tr>\n",
              "      <th>875</th>\n",
              "      <td>Battle New York Primary Matters primary day Ne...</td>\n",
              "      <td>0</td>\n",
              "    </tr>\n",
              "    <tr>\n",
              "      <th>...</th>\n",
              "      <td>...</td>\n",
              "      <td>...</td>\n",
              "    </tr>\n",
              "    <tr>\n",
              "      <th>4490</th>\n",
              "      <td>State Department say find email Clinton specia...</td>\n",
              "      <td>0</td>\n",
              "    </tr>\n",
              "    <tr>\n",
              "      <th>8062</th>\n",
              "      <td>P PBS Stand Plutocratic Pentagon P PBS Stand P...</td>\n",
              "      <td>1</td>\n",
              "    </tr>\n",
              "    <tr>\n",
              "      <th>8622</th>\n",
              "      <td>Anti Trump Protesters Tools Oligarchy Informat...</td>\n",
              "      <td>1</td>\n",
              "    </tr>\n",
              "    <tr>\n",
              "      <th>4021</th>\n",
              "      <td>Ethiopia Obama seek progress peace security Ea...</td>\n",
              "      <td>0</td>\n",
              "    </tr>\n",
              "    <tr>\n",
              "      <th>4330</th>\n",
              "      <td>Jeb Bush Suddenly Attacking Trump Matters Jeb ...</td>\n",
              "      <td>0</td>\n",
              "    </tr>\n",
              "  </tbody>\n",
              "</table>\n",
              "<p>6303 rows × 2 columns</p>\n",
              "</div>"
            ],
            "text/plain": [
              "                                                   pro_X  y\n",
              "8476   Smell Hillary Fear Daniel Greenfield Shillman ...  1\n",
              "10294  Watch Exact Moment Paul Ryan Committed Politic...  1\n",
              "3608   Kerry Paris gesture sympathy Secretary State J...  0\n",
              "10142  Bernie supporter Twitter erupt anger DNC try w...  1\n",
              "875    Battle New York Primary Matters primary day Ne...  0\n",
              "...                                                  ... ..\n",
              "4490   State Department say find email Clinton specia...  0\n",
              "8062   P PBS Stand Plutocratic Pentagon P PBS Stand P...  1\n",
              "8622   Anti Trump Protesters Tools Oligarchy Informat...  1\n",
              "4021   Ethiopia Obama seek progress peace security Ea...  0\n",
              "4330   Jeb Bush Suddenly Attacking Trump Matters Jeb ...  0\n",
              "\n",
              "[6303 rows x 2 columns]"
            ]
          },
          "metadata": {
            "tags": []
          },
          "execution_count": 19
        }
      ]
    },
    {
      "cell_type": "markdown",
      "metadata": {
        "colab_type": "text",
        "id": "pbojUolFCEf2"
      },
      "source": [
        "### Definición de notación\n",
        "De ahora en adelante denotamos por:\n",
        "- ***Documento***: cada una de las noticias procesadas del conjunto de datos, es decir, cada una de las observaciones de la columna `'pro_X'`del DataFrame `final_df`.\n",
        "- ***Corpus***: el conjunto de *documentos* del conjunto de datos, es decir, el conjunto de observaciones de la columna `'pro_X'` del DataFrame `final_df`.\n",
        "- ***Vocabulario***: al conjunto de *tokens* presentes en el *corpus*.\n"
      ]
    },
    {
      "cell_type": "markdown",
      "metadata": {
        "colab_type": "text",
        "id": "ySZAaNLlCEf3"
      },
      "source": [
        "### Definición de conjuntos del problema\n",
        "Se separan las muestras en dos conjuntos:\n",
        "- Conjunto de *entrenamiento union validación* (denotado por `*_full_train`), con el 80% de las observaciones\n",
        "- Conjunto de *prueba* (denotado por `*_test`), con el 20% de las observaciones.\n",
        "\n",
        "A su vez el conjunto de *entrenamiento union validación* de subdivide en:\n",
        "- Conjunto de *entrenamiento* (denotado por `*_train`), con el 64% de las observaciones.\n",
        "- Conjunto de *validación* (denotado por `*_val`), con el 16% de las observaciones\n",
        "\n",
        "Para realizar esta subdivisión utilizamos dos veces la función `sklearn.model_selection.train_test_split`."
      ]
    },
    {
      "cell_type": "code",
      "metadata": {
        "colab_type": "code",
        "id": "2YYSQ9p4CEf7",
        "colab": {}
      },
      "source": [
        "# define parametros de la division de conjuntos\n",
        "proporcion_total_entrenamiento_prueba = 0.80\n",
        "proporcion_entrenamiento_validacion = 0.80\n",
        "\n",
        "# obtiene conjunto de prueba\n",
        "X_full_train, X_test, y_full_train, y_test= train_test_split(\n",
        "    final_df.pro_X, final_df.y, train_size=proporcion_total_entrenamiento_prueba, \n",
        "    random_state=seed_)\n",
        "\n",
        "# obtiene conjunto de entrnamiento y validacion\n",
        "X_train, X_val, y_train, y_val  = train_test_split(\n",
        "    X_full_train, y_full_train, train_size=proporcion_entrenamiento_validacion, \n",
        "    random_state=seed_)\n",
        "\n",
        "# guardar los conjuntos en formato csv\n",
        "conjuntos_dir = 'conjuntos'\n",
        "os.makedirs(conjuntos_dir, exist_ok=True)\n",
        "guarda_csv = lambda X, y, filename: pd.DataFrame({\n",
        "    'pro_X': X, 'y': y\n",
        "}).to_csv(f'{conjuntos_dir}/{filename}.csv', index=None)\n",
        "guarda_csv(X_train, y_train, 'entrenamiento')\n",
        "guarda_csv(X_val, y_val, 'validacion')\n",
        "guarda_csv(X_test, y_test, 'prueba')"
      ],
      "execution_count": 20,
      "outputs": []
    },
    {
      "cell_type": "markdown",
      "metadata": {
        "colab_type": "text",
        "id": "yDRxP4ebCEf_"
      },
      "source": [
        "## Modelos de aprendizaje de máquinas\n"
      ]
    },
    {
      "cell_type": "markdown",
      "metadata": {
        "colab_type": "text",
        "id": "pAg8An6BEsDg"
      },
      "source": [
        "### Modelos no paramétricos"
      ]
    },
    {
      "cell_type": "markdown",
      "metadata": {
        "colab_type": "text",
        "id": "2kljsRVFCEgA"
      },
      "source": [
        "#### Representación por conteo de ocurrencias.\n",
        "Dado que se busca resolver un problema de clasificación de documentos, es necesario representar los documentos de forma numérica. A continuación usaremos la representación por conteo de apariciones de cada uno de los *tokens* presentes en el *vocabulario*.\n",
        "\n",
        "Para realizar esta vectorización de documentos se utiliza la clase `sklearn.feature_extraction.text.CountVectorizer`. El método `fit_transform` de esta clase  recibe como argumento un `iterable` de *documentos*, extrae el *vocabulario* de dicho `iterable` y retorna la matriz de número de ocurrencias de cada *token* del *vocabulario*, en cada uno de los documentos del `iterable`. En otras palabras, definiendo $\\text{tf}(t_i, \\mathbf{d}_j)$ como el número de apariciones del *token* $t_i$ en el *documento* $\\mathbf{d}_j$, `~CountVectorizer.fit_transform` retorna la matriz $\\mathbf{C}$ definida por:\n",
        "$$\\big(c_{i, j}\\big) = \\text{tf}(t_j, \\mathbf{d}_i)$$"
      ]
    },
    {
      "cell_type": "markdown",
      "metadata": {
        "colab_type": "text",
        "id": "14YOBySYCEgB"
      },
      "source": [
        "#### Naive Bayes\n",
        "\n",
        "Se emplea el algoritmo de *Naive Bayes* como base de referencia para los modelos más complejos empleados posteriormente. Específicamente, se utiliza una instancia de la clase `sklearn.naive_bayes.MultinomialNB` que está diseñado para trabajar con las características del tipo conteo. \n",
        "\n"
      ]
    },
    {
      "cell_type": "markdown",
      "metadata": {
        "colab_type": "text",
        "id": "0LXS7kANE0A-"
      },
      "source": [
        "##### Pregunta 2\n",
        "1. Instancie `nb_pipe` como un objeto de la clase `sklearn.pipeline.Pipeline` con los componentes:\n",
        "    - `~CountVectorizer` inicializado con `max_features=20000` los demás parámetros por defecto.\n",
        "    - `~MultinomialNB` inicializado con los parámetros por defecto.  \n",
        "    \n",
        "   Posteriormente, ajuste `nb_pipe` en el conjunto de *entrenamiento union validación* y guarde el modelo resultante en la carpeta `modelos/nb_pipe.pk` como un archivo `pickle`. "
      ]
    },
    {
      "cell_type": "code",
      "metadata": {
        "colab_type": "code",
        "id": "KBiY5mcwEC1N",
        "colab": {}
      },
      "source": [
        "# 1\n",
        "# Se crea la pipeline\n",
        "nb_pipe = Pipeline(steps=[('vectorizacion',CountVectorizer(max_features=20000)),\n",
        "                          ('naive_bayes', MultinomialNB())] \n",
        "                   )"
      ],
      "execution_count": 21,
      "outputs": []
    },
    {
      "cell_type": "code",
      "metadata": {
        "id": "ZuuyYxSaxpAD",
        "colab_type": "code",
        "colab": {
          "base_uri": "https://localhost:8080/",
          "height": 245
        },
        "outputId": "5278cd3d-cb6d-4396-dada-c8790cfaef3a"
      },
      "source": [
        "# Se realiza el ajuste sobre entrenamiento 'union' validación, \n",
        "# es decir, en X_full_train, y_full_train\n",
        "nb_pipe.fit(X_full_train,y_full_train)"
      ],
      "execution_count": 22,
      "outputs": [
        {
          "output_type": "execute_result",
          "data": {
            "text/plain": [
              "Pipeline(memory=None,\n",
              "         steps=[('vectorizacion',\n",
              "                 CountVectorizer(analyzer='word', binary=False,\n",
              "                                 decode_error='strict',\n",
              "                                 dtype=<class 'numpy.int64'>, encoding='utf-8',\n",
              "                                 input='content', lowercase=True, max_df=1.0,\n",
              "                                 max_features=20000, min_df=1,\n",
              "                                 ngram_range=(1, 1), preprocessor=None,\n",
              "                                 stop_words=None, strip_accents=None,\n",
              "                                 token_pattern='(?u)\\\\b\\\\w\\\\w+\\\\b',\n",
              "                                 tokenizer=None, vocabulary=None)),\n",
              "                ('naive_bayes',\n",
              "                 MultinomialNB(alpha=1.0, class_prior=None, fit_prior=True))],\n",
              "         verbose=False)"
            ]
          },
          "metadata": {
            "tags": []
          },
          "execution_count": 22
        }
      ]
    },
    {
      "cell_type": "code",
      "metadata": {
        "id": "kts6-fzrLcYq",
        "colab_type": "code",
        "colab": {}
      },
      "source": [
        "# Se guarda el modelo en un archivo .pk\n",
        "os.makedirs(os.getcwd() + f'/modelos/', exist_ok=True)\n",
        "\n",
        "with open(os.getcwd() + '/modelos/nb_pipe.pk', 'wb') as handler:\n",
        "  pk.dump(nb_pipe, handler)"
      ],
      "execution_count": 23,
      "outputs": []
    },
    {
      "cell_type": "markdown",
      "metadata": {
        "colab_type": "text",
        "id": "8R4IVhILCEgG"
      },
      "source": [
        "2. Defina la función `evalua_sklearn`  que reciba como argumentos:\n",
        "    - `y_true`: np.array de una dimensión, conteniendo las etiquetas de cada una de las observaciones \n",
        "    - `y_pred`: np.array, con las etiquetas predichas por algún modelo de clasificación\n",
        "    - `nombre_clasificador`: str, define el nombre de la carpeta donde los resultados son guardados. \n",
        "    \n",
        "  Esta función debe:\n",
        "    - Imprimir en pantalla los resultados de clasificación, mediante `sklearn.metrics.classification_report` con 4 dígitos de precisión. Además debe guardar dichos resultadoes  en la ruta `f'resultados/{nombre_clasificador}/reporte_clasificacion.txt'`.\n",
        "    - Generar un gráfico con la *matriz de confusión* mediante el uso de `sklearn.metrics.confusion_matrix` y `seaborn.heatmap`. Además debe guardar dicho gráfico en la ruta `f'resultados/{nombre_clasificador}/mc.pdf'`.\n",
        "    \n",
        "  Pruebe esta función con la predicción de `nb_pipe` sobre el conjunto de *prueba*, usando `nombre_clasificador='nb_pipe'`."
      ]
    },
    {
      "cell_type": "code",
      "metadata": {
        "id": "86egea5I2zV-",
        "colab_type": "code",
        "colab": {}
      },
      "source": [
        "# 2\n",
        "def evalua_sklearn(y_true,y_pred,nombre_clasificador):\n",
        "\n",
        "  # Se crea el directorio con resultados en caso de no existir\n",
        "  os.makedirs(os.getcwd() + f'/resultados/{nombre_clasificador}', exist_ok=True)\n",
        "  \n",
        "  # Imprime en pantalla los resultados de la clasificación \n",
        "  print(classification_report(y_true,y_pred,digits=4))\n",
        "\n",
        "  # Se crea un archivo y se guardan los resultados\n",
        "  with open(os.getcwd() + f'/resultados/{nombre_clasificador}/reporte_clasificacion.txt', 'w+') as f:\n",
        "    print(classification_report(y_true,y_pred,digits=4), file=f)\n",
        "  \n",
        "  # Se crea y guarda el gráfico con la matríz de confusión \n",
        "  sns.heatmap(confusion_matrix(y_true=y_true, y_pred=y_pred))\n",
        "  plt.savefig(f'resultados/{nombre_clasificador}/mc.pdf', \n",
        "              format='pdf', bbox_inches='tight')"
      ],
      "execution_count": 24,
      "outputs": []
    },
    {
      "cell_type": "code",
      "metadata": {
        "colab_type": "code",
        "id": "opHsYtdSEH6J",
        "colab": {
          "base_uri": "https://localhost:8080/",
          "height": 411
        },
        "outputId": "bac531a1-77bd-4797-c860-a6b4cb724ddf"
      },
      "source": [
        "# Se evalua el desempeño del modelo en el conjunto de prueba\n",
        "y_test_pred_nb = nb_pipe.predict(X_test)\n",
        "evalua_sklearn(y_test, y_test_pred_nb,'nb_pipe')"
      ],
      "execution_count": 25,
      "outputs": [
        {
          "output_type": "stream",
          "text": [
            "              precision    recall  f1-score   support\n",
            "\n",
            "           0     0.8895    0.9217    0.9053       664\n",
            "           1     0.9092    0.8727    0.8906       597\n",
            "\n",
            "    accuracy                         0.8985      1261\n",
            "   macro avg     0.8994    0.8972    0.8980      1261\n",
            "weighted avg     0.8989    0.8985    0.8984      1261\n",
            "\n"
          ],
          "name": "stdout"
        },
        {
          "output_type": "display_data",
          "data": {
            "image/png": "[encoded data removed]",
            "text/plain": [
              "<Figure size 432x288 with 2 Axes>"
            ]
          },
          "metadata": {
            "tags": [],
            "needs_background": "light"
          }
        }
      ]
    },
    {
      "cell_type": "markdown",
      "metadata": {
        "colab_type": "text",
        "id": "dQ1wjJUqCEgM"
      },
      "source": [
        "- Compruebe que obtiene un *accuracy* y un promedio ponderado de *f1-score* superiores a .89.  "
      ]
    },
    {
      "cell_type": "code",
      "metadata": {
        "id": "-4S1h1zjAHkC",
        "colab_type": "code",
        "colab": {
          "base_uri": "https://localhost:8080/",
          "height": 50
        },
        "outputId": "d92984a9-3214-4cbf-a37e-b71c7600c43d"
      },
      "source": [
        "f1_scores = np.array([0.9053,0.8906, 0.8985, 0.8980, 0.8984]) # aún no se como extraer del .txt\n",
        "print('accuracy_score:', accuracy_score(y_true=y_test,y_pred=y_test_pred_nb))\n",
        "print('mean f1_score:', np.mean(f1_scores))"
      ],
      "execution_count": 26,
      "outputs": [
        {
          "output_type": "stream",
          "text": [
            "accuracy_score: 0.8984932593180016\n",
            "mean f1_score: 0.8981600000000001\n"
          ],
          "name": "stdout"
        }
      ]
    },
    {
      "cell_type": "markdown",
      "metadata": {
        "colab_type": "text",
        "id": "F29MRA-xCEgN"
      },
      "source": [
        "#### Representación Tf-idf\n",
        "\n",
        "Para esta sección y la posterior se emplea la clase `sklearn.feature_extraction.text.TfidfVectorizer`. \n",
        "\n",
        "Para comprender el algoritmo ***tf-idf*** (*term frequency - inverse document frequency*) necesitamos definir 3 de sus componentes:\n",
        "- $\\text{tf}(t_j, \\mathbf{d}_i)$ que representa el número de apariciones del *token* $t_j$ en el *documento* $\\mathbf{d}_i$.\n",
        "\n",
        "- $\\text{df}(t_j)$ que representa el número de documentos en que aparece el *token* $t_j$.\n",
        "- $\\text{idf}(t_j)$ que representa el inverso de la frecuencia del *token* $t_j$ en los *documentos* del *corpus*. En el caso particular del objeto `~.TfidfVectorizer` empleado, denotando por $n$ al numero de documentos del *corpus*, se usa una versión suavizada de la función $\\text{idf}$. Esto es: \n",
        "\n",
        "$$\n",
        "\\text{idf}(t_j) = \\log(\\frac{1 + n}{1 + \\text{df}(t_j)}) + 1\n",
        "$$\n",
        "\n",
        "\n",
        "Con dichos componentes, podemos definir a la representación vectorial del documento $\\mathbf{d}_i$ mediante el vector $\\textbf{tf-idf}(\\mathbf{d}_i)$, cuyas coordenadas se calculan de la siguiente manera:\n",
        "\n",
        "$$\n",
        "\\left(\\textbf{tf-idf}(\\mathbf{d}_i)_i\\right) = \\text{tf}(t_j, \\mathbf{d}_i) \\times \\text{idf}(t_j)\n",
        "$$\n",
        "\n",
        "\n",
        "Así la salida del objeto `~.TfidfVectorizer` es la matriz de la concatenación por filas, de los vectores $\\textbf{tf-idf}(\\mathbf{d}_i)$ normalizados según la norma euclidiana, es decir, la matriz $\\mathbf{X}$, definida por:\n",
        "\n",
        "\n",
        "$$\n",
        "\\left( x_{i,j} \\right) = \\frac{\\text{tf}(t_j, \\mathbf{d}_i) \\times \\text{idf}(t_j)}{{||\\textbf{tf-idf}(\\mathbf{d}_i)||}_2} \n",
        "$$\n",
        "\n",
        "\n",
        "\n",
        "donde ${||\\cdot||}_2$ representa la norma euclidiana. En consecuencia se logra una representación vectorial sobre la esfera unitaria de la norma ${||\\cdot||}_2$.\n",
        "\n",
        "Una interpretación posible de esta representación vectorial es que cada *token* $t_j$ tiene mayor importancia en el documento $\\mathbf{d}_i$:\n",
        "\n",
        "- En la medida en que esta aparezca más veces en el documento\n",
        "- En la medida en que esta aparezca menos veces en los demás documentos del corpus"
      ]
    },
    {
      "cell_type": "markdown",
      "metadata": {
        "colab_type": "text",
        "id": "M8A8IZPoCEgN"
      },
      "source": [
        "#### Maquinas de soporte vectorial (SVM)\n",
        "\n",
        "Se emplea el algoritmo de máquinas de soporte vectorial (*Support Vector Machines - SVM*) sobre la representación vectorial *tf-idf*. La clase utilizada para generar este modelo es `sklearn.svm.SVC`.\n",
        "\n"
      ]
    },
    {
      "cell_type": "markdown",
      "metadata": {
        "colab_type": "text",
        "id": "1_rQh6ZPE4dA"
      },
      "source": [
        "##### Pregunta 3\n",
        "1. Instancie `svm_pipe` como un objeto de la clase `sklearn.pipeline.Pipeline` con los componentes:\n",
        "    - `~.TfidfVectorizer` inicializado con `max_features=20000` los demás parámetros por defecto.\n",
        "    - `~.SVC` inicializado con el kernel RBF y los parámetros por defecto.  \n",
        "    \n",
        "   Posteriormente, ajuste `svm_pipe` en el conjunto de *entrenamiento union validación* y guarde el modelo resultante en la carpeta `modelos/svm_pipe.pk` como un archivo `pickle`. Finalmente, reporte el desempeño del clasificador mediante `evalua_sklearn` con la predicción de `svm_pipe` sobre el conjunto de *prueba*, usando `nombre_clasificador='svm_pipe'`."
      ]
    },
    {
      "cell_type": "code",
      "metadata": {
        "colab_type": "code",
        "id": "C-fRguPeELN-",
        "colab": {}
      },
      "source": [
        "# 1\n",
        "# Se crea la pipeline\n",
        "svm_pipe = Pipeline(steps=[('vector Tfidf', TfidfVectorizer(max_features=20000)),\n",
        "                           ('svc', SVC())]\n",
        "                    )"
      ],
      "execution_count": 27,
      "outputs": []
    },
    {
      "cell_type": "code",
      "metadata": {
        "id": "Xhorb87sPiAh",
        "colab_type": "code",
        "colab": {}
      },
      "source": [
        "# Se ajusta el modelo al conjunto de entrenamiento union validación, i.e.,\n",
        "# a X_full_train e y_full_train\n",
        "svm_pipe.fit(X_full_train,y_full_train)\n",
        "\n",
        "# Se guarda el modelo en un archivo .pk\n",
        "os.makedirs(os.getcwd() + f'/modelos/', exist_ok=True)\n",
        "\n",
        "with open(os.getcwd() + '/modelos/svm_pipe.pk', 'wb') as handler:\n",
        "  pk.dump(svm_pipe, handler)"
      ],
      "execution_count": 28,
      "outputs": []
    },
    {
      "cell_type": "code",
      "metadata": {
        "id": "MCBdnG1FPoQZ",
        "colab_type": "code",
        "colab": {
          "base_uri": "https://localhost:8080/",
          "height": 411
        },
        "outputId": "33878be1-426c-40a5-e011-848ec4900d16"
      },
      "source": [
        "# Se evalua el desempeño del modelo en el conjunto de test\n",
        "y_test_pred_svm = svm_pipe.predict(X_test)\n",
        "evalua_sklearn(y_test, y_test_pred_svm,'svm_pipe')"
      ],
      "execution_count": 29,
      "outputs": [
        {
          "output_type": "stream",
          "text": [
            "              precision    recall  f1-score   support\n",
            "\n",
            "           0     0.9507    0.9006    0.9250       664\n",
            "           1     0.8956    0.9481    0.9211       597\n",
            "\n",
            "    accuracy                         0.9231      1261\n",
            "   macro avg     0.9231    0.9243    0.9230      1261\n",
            "weighted avg     0.9246    0.9231    0.9231      1261\n",
            "\n"
          ],
          "name": "stdout"
        },
        {
          "output_type": "display_data",
          "data": {
            "image/png": "[encoded data removed]",
            "text/plain": [
              "<Figure size 432x288 with 2 Axes>"
            ]
          },
          "metadata": {
            "tags": [],
            "needs_background": "light"
          }
        }
      ]
    },
    {
      "cell_type": "markdown",
      "metadata": {
        "colab_type": "text",
        "id": "xj3HbM47CEgT"
      },
      "source": [
        "Las máquinas de soporte vectorial son algoritmos que pueden ser muy sensibles a los hiperparámetros. Por esta razón es útil emplear un esquema de validación cruzada. A continuación se implementa un esquema de validación cruzada simple, que explora sólo diferentes kernels y coeficientes de regularización.\n",
        "2. Instancie `svm_grid` como un objeto de la clase `sklearn.model_selection.GridSearchCV`con los parámetros:\n",
        "    - `n_jobs=-1` para usar todos los núcleos disponibles\n",
        "    - `param_grid` definido de tal forma que le permita probar las combinaciones de los siguientes hiperparámetros de `~SVC`:\n",
        "        - `kernel` en {`'lineal'`, `'rbf'`}\n",
        "        - `C` en {`.01`, `.1`, `1`, `10`, `100`}\n",
        "\n",
        "    - `cv=3` para generar un esquema de validación cruzada estratificada con 3 *fold*.\n",
        "    - `verbose=1` para reportar el progreso del ajuste en pantalla\n",
        "    \n",
        "  Los demás parámetros quedan con sus valores por defecto.  \n",
        "  \n",
        "  Ajuste `grid_search_svm` usando `svm_pipe` sobre el conjunto *entrenamiento union validación* y guarde el modelo resultante en la carpeta `modelos/svm_grid.pk` como un archivo `pickle`. Luego reporte el desempeño del clasificador mediante `evalua_sklearn` con la predicción de `svm_grid` sobre el conjunto de *prueba*, usando `nombre_clasificador='svm_grid'`.  \n",
        "  \n",
        "  **Obs**: Evite fuga de información al combinar ``svm_pipe`` con `grid_search_svm`.\n",
        "\n",
        "  Finalmente, en ruta `resultados/svm_grid/mejores_parametros.txt` guarde los mejores parámetros obtenidos en `svm_grid`."
      ]
    },
    {
      "cell_type": "code",
      "metadata": {
        "colab_type": "code",
        "id": "TJJyKChuEOLr",
        "colab": {}
      },
      "source": [
        "# no olvide fijar la semilla \n",
        "np.random.seed(seed_)"
      ],
      "execution_count": 30,
      "outputs": []
    },
    {
      "cell_type": "code",
      "metadata": {
        "id": "N4W_WeEpXPUu",
        "colab_type": "code",
        "colab": {}
      },
      "source": [
        "# Se genera la grilla de parámetros\n",
        "grid = [{'svc__kernel': ['lineal'],\n",
        "         'svc__C': [0.01, 0.1, 1, 10, 100]},\n",
        "        {'svc__kernel': ['rbf'],\n",
        "         'svc__C': [0.01, 0.1, 1, 10, 100]}\n",
        "        ]\n",
        "\n",
        "# Se comienza el modelo de búsqueda\n",
        "svm_grid = GridSearchCV(estimator=svm_pipe, param_grid=grid, n_jobs=-1, cv=3, verbose=1) "
      ],
      "execution_count": 31,
      "outputs": []
    },
    {
      "cell_type": "code",
      "metadata": {
        "id": "JB9CAAEEYA7p",
        "colab_type": "code",
        "colab": {
          "base_uri": "https://localhost:8080/",
          "height": 570
        },
        "outputId": "9edd6f75-e83e-4d76-afac-bf58800f670b"
      },
      "source": [
        "# Se ajusta el modelo al conjunto de entrenamiento union validación, i.e.,\n",
        "# a X_full_train e y_full_train\n",
        "svm_grid.fit(X_full_train, y_full_train)"
      ],
      "execution_count": 32,
      "outputs": [
        {
          "output_type": "stream",
          "text": [
            "Fitting 3 folds for each of 10 candidates, totalling 30 fits\n"
          ],
          "name": "stdout"
        },
        {
          "output_type": "stream",
          "text": [
            "[Parallel(n_jobs=-1)]: Using backend LokyBackend with 2 concurrent workers.\n",
            "[Parallel(n_jobs=-1)]: Done  30 out of  30 | elapsed:  6.1min finished\n"
          ],
          "name": "stderr"
        },
        {
          "output_type": "execute_result",
          "data": {
            "text/plain": [
              "GridSearchCV(cv=3, error_score=nan,\n",
              "             estimator=Pipeline(memory=None,\n",
              "                                steps=[('vector Tfidf',\n",
              "                                        TfidfVectorizer(analyzer='word',\n",
              "                                                        binary=False,\n",
              "                                                        decode_error='strict',\n",
              "                                                        dtype=<class 'numpy.float64'>,\n",
              "                                                        encoding='utf-8',\n",
              "                                                        input='content',\n",
              "                                                        lowercase=True,\n",
              "                                                        max_df=1.0,\n",
              "                                                        max_features=20000,\n",
              "                                                        min_df=1,\n",
              "                                                        ngram_range=(1, 1),\n",
              "                                                        norm='l2',\n",
              "                                                        preprocessor=None,\n",
              "                                                        smooth_idf=True,\n",
              "                                                        stop_words=None,\n",
              "                                                        st...\n",
              "                                            kernel='rbf', max_iter=-1,\n",
              "                                            probability=False,\n",
              "                                            random_state=None, shrinking=True,\n",
              "                                            tol=0.001, verbose=False))],\n",
              "                                verbose=False),\n",
              "             iid='deprecated', n_jobs=-1,\n",
              "             param_grid=[{'svc__C': [0.01, 0.1, 1, 10, 100],\n",
              "                          'svc__kernel': ['lineal']},\n",
              "                         {'svc__C': [0.01, 0.1, 1, 10, 100],\n",
              "                          'svc__kernel': ['rbf']}],\n",
              "             pre_dispatch='2*n_jobs', refit=True, return_train_score=False,\n",
              "             scoring=None, verbose=1)"
            ]
          },
          "metadata": {
            "tags": []
          },
          "execution_count": 32
        }
      ]
    },
    {
      "cell_type": "code",
      "metadata": {
        "id": "bxkyMeCBauuJ",
        "colab_type": "code",
        "colab": {}
      },
      "source": [
        "# Se guarda el modelo en un archivo .pk\n",
        "os.makedirs(os.getcwd() + f'/modelos/', exist_ok=True)\n",
        "\n",
        "with open(os.getcwd() + '/modelos/svm_grid.pk', 'wb') as handler:\n",
        "  pk.dump(svm_grid, handler)"
      ],
      "execution_count": 33,
      "outputs": []
    },
    {
      "cell_type": "code",
      "metadata": {
        "id": "QBJFSGnudh4i",
        "colab_type": "code",
        "colab": {
          "base_uri": "https://localhost:8080/",
          "height": 413
        },
        "outputId": "146457dd-54d9-486a-9a23-5e762e2bc1c8"
      },
      "source": [
        "# Se evalua el desempeño del modelo en el conjunto de test\n",
        "y_test_pred_svm_grid = svm_grid.predict(X_test)\n",
        "evalua_sklearn(y_test, y_test_pred_svm_grid,'svm_grid')"
      ],
      "execution_count": 34,
      "outputs": [
        {
          "output_type": "stream",
          "text": [
            "              precision    recall  f1-score   support\n",
            "\n",
            "           0     0.9528    0.9111    0.9315       664\n",
            "           1     0.9058    0.9497    0.9272       597\n",
            "\n",
            "    accuracy                         0.9294      1261\n",
            "   macro avg     0.9293    0.9304    0.9294      1261\n",
            "weighted avg     0.9305    0.9294    0.9295      1261\n",
            "\n"
          ],
          "name": "stdout"
        },
        {
          "output_type": "display_data",
          "data": {
            "image/png": "[encoded data removed]",
            "text/plain": [
              "<Figure size 432x288 with 2 Axes>"
            ]
          },
          "metadata": {
            "tags": [],
            "needs_background": "light"
          }
        }
      ]
    },
    {
      "cell_type": "code",
      "metadata": {
        "id": "ZeKLK9sWeOsO",
        "colab_type": "code",
        "colab": {}
      },
      "source": [
        "# Se recupera el mejor modelo obtenido de la búsqueda\n",
        "svm_grid_best = svm_grid.best_estimator_\n",
        "\n",
        "# Se guardan los mejores parametros en un archivo .txt\n",
        "with open(os.getcwd() + f'/resultados/svm_grid/mejores_parametros.txt', 'w+') as f:\n",
        "  print(svm_grid_best.get_params(),file=f)"
      ],
      "execution_count": 35,
      "outputs": []
    },
    {
      "cell_type": "markdown",
      "metadata": {
        "colab_type": "text",
        "id": "CW8MfC6GEdgD"
      },
      "source": [
        "### Modelos paramétricos\n",
        "\n",
        "En lo que sigue del ejercicio se construirá una red neuronal recurrente (*RNN*). Para ello se usará principalmente la librería `torchtext` que provee una serie de herramientas que facilitan el manejo de texto para redes neuronales."
      ]
    },
    {
      "cell_type": "markdown",
      "metadata": {
        "colab_type": "text",
        "id": "pqXRozFCFCYS"
      },
      "source": [
        "#### Representación vectorial densa\n",
        "\n",
        "En las representaciones vectoriales anteriores, cada *token* del *vocabulario* constituye una dimension del espacio, es decir, hay tantas dimensiones en el espacio vectorial de representación como *tokens* en el *vocabulario*.\n",
        "\n",
        "Hay una desventaja enorme en esta representación, además de la cantidad enorme de dimensiones que genera. Esta es que básicamente trata todos los *token* como entidades independientes sin relación entre sí. Lo que se busca en una representación densa es alguna noción de similitud entre las palabras.\n",
        "\n",
        "Por ejemplo, supoga que se construye un modelo de lenguaje y que hemos visto las oraciones:\n",
        "\n",
        "- El matemático corrió a la tienda.\n",
        "- El físico corrió a la tienda.\n",
        "- El matemático resolvió un problema abierto.\n",
        "\n",
        "en el conjunto de *entrenamiento*. Ahora supongamos que obtenemos una nueva oración no presente en el conjunto de *entrenamiento*:\n",
        "\n",
        "- El físico resolvió un problema abierto.\n",
        "\n",
        "Si bien el modelo de lenguaje puede funcionar bien en esta oración, sería mejor si se pudiera utilizar los siguientes aspectos:\n",
        "\n",
        "- Se ha observado matemático y físico en el mismo papel en una oración. De alguna manera tienen una relación semántica.\n",
        "- Se ha observado al matemático en el rol del físico en una oración análoga a esta nueva oración.\n",
        "\n",
        "Así, se podría inferir que el físico en realidad encaja bien en la nueva oración. Esto esconde una noción de similitud: queremos decir similitud semántica, no simplemente tener representaciones ortográficas similares. Este ejemplo, por supuesto, se basa en una suposición lingüística fundamental: que las palabras que aparecen en contextos similares están relacionadas semánticamente entre sí. Esto se llama hipótesis ***distribucional***.\n",
        "\n",
        "Sobre dicha hipotesis se basa la construcción de modelos de procesamiento de lenguaje natural llamado ***word embeddings*** que se utilizan a continuación.\n",
        "\n",
        "<center>Explicación adaptada de <a href=\"https://pytorch.org/tutorials/beginner/nlp/word_embeddings_tutorial.html\">Word Embedding: Encoding Lexical Semantics - Pytorch</a></center> \n",
        "\n",
        "\n"
      ]
    },
    {
      "cell_type": "markdown",
      "metadata": {
        "colab_type": "text",
        "id": "wRUh3opLLJ3P"
      },
      "source": [
        "##### Pregunta 4 \n",
        "La forma de cargar datos en formato csv que provee `torchtext`, es mediante los objetos `torchtext.data.dataset.TabularDataset`. A direfencia de `pandas.read_csv`, donde la función puede inferir el tipo de dato de cada columna, `~.TabularDataset` necesita que dichos tipos de dato sean declarados, mediante el objeto `torchtext.data.Field`.\n",
        "\n",
        "1. Instancie `train_td`, `val_td` y `test_td` mediante el método `~.TabularDataset.splits` que le permita cargar textos de los archivos `conjuntos/*.csv` respectivos. Para ello tendrá que instanciar dos objetos de la clase `~.Field` que definan el tipo de dato para cada columna:\n",
        "\n",
        "- La columna `y`: declarada mediante el objeto `etiqueta_fd` como instancia de `~.Field`, con parametros `sequential=False, use_vocab=False, batch_first=True, dtype=torch.float` y los demás por defecto.\n",
        "- La columna `pro_X`:  declarada mediante el objeto `documento_fd`, como instancia de `~.Field`, con parámetros `include_lengths=True, batch_first=True` y los demás por defecto. El primer parámetro (`include_lengths=True`) implica que cada *documento* cargado de la columna se entregará en forma de tupla, donde además de la secuencia de *tokens* de aquel *documento*, se adjuntará el largo de la secuencia o número de tokens contenidos en este.\n",
        "\n",
        "**Obs**: Tendrá que inferir los parámetros con los cuales emplear el método `~.splits()`."
      ]
    },
    {
      "cell_type": "code",
      "metadata": {
        "colab_type": "code",
        "id": "_CPFslHMO7OF",
        "colab": {}
      },
      "source": [
        "etiqueta_fd=Field(sequential=False,use_vocab=False,batch_first=True,dtype=torch.float)\n",
        "documento_fd=Field(include_lengths=True,batch_first=True)\n",
        "\n",
        "\n",
        "train_td, val_td, test_td = TabularDataset.splits(\n",
        "    path=os.getcwd() + '/conjuntos/', train='entrenamiento.csv',\n",
        "    validation='validacion.csv', test='prueba.csv', format='csv',\n",
        "    fields=[('pro_X', documento_fd), ('etiqueta', etiqueta_fd)], skip_header=True)"
      ],
      "execution_count": 36,
      "outputs": []
    },
    {
      "cell_type": "markdown",
      "metadata": {
        "colab_type": "text",
        "id": "2ZQsjBrESIYZ"
      },
      "source": [
        "`torchtext` también provee objetos que permiten iterar sobre un objeto de tipo `~.TabularDataset`. En particular, en el procesamiento de texto es beneficioso generar *batches* de secuencias que tengan largo similar, para ahorrar tiempo de escritura, ya que dichos *batches* al tener forma tensorial, deben ser completados por ceros (*padding*). Así por ejemplo, las secuencias:\n",
        "```\n",
        "[ [4, 16, 3, 8],\n",
        "  [5, 2],\n",
        "  [6, 6, 7, 9, 2] ]\n",
        "```\n",
        "deben ser transformadas a:\n",
        "```\n",
        "[ [4, 16, 3, 8, 0],\n",
        "  [5, 2, 0, 0, 0],\n",
        "  [6, 6, 7, 8, 2] ]\n",
        "```\n",
        "\n",
        "Mediante la clase ` torchtext.data.BucketIterator`, es posible iterar sobre instancias de `~.TabularDataset`, de manera que se minimiza la cantidad de *padding* y al mismo tiempo se mantiene un orden aleatorio de los datos.\n",
        "\n",
        "2.  Instancie *iterators* de cada uno de los `~.TabularDataset` instanciados, mediante `~.BucketIterator.splits` con los parámetros `batch_size=32, sort_key=lambda x: len(x.pro_X),\n",
        "device=device, sort=True, sort_within_batch=True`.\n"
      ]
    },
    {
      "cell_type": "code",
      "metadata": {
        "colab_type": "code",
        "id": "zvPAvN1eUX9E",
        "colab": {}
      },
      "source": [
        "train_iter, val_iter, test_iter = BucketIterator.splits(\n",
        "    (train_td, val_td, test_td), batch_sizes=(32, 32, 32),\n",
        "    sort_key=lambda x: len(x.pro_X), device=device,sort=True, sort_within_batch=True)"
      ],
      "execution_count": 37,
      "outputs": []
    },
    {
      "cell_type": "markdown",
      "metadata": {
        "colab_type": "text",
        "id": "PI4uDB6mUWd2"
      },
      "source": [
        "3. Obtenga la representación vectorial del vocabulario con el *word embedding* GloVe entrenado en [Wikipedia 2014 + GigaWord 5](https://nlp.stanford.edu/projects/glove/). Para ello:\n",
        "- Instancie el objeto `glove` como una instancia de la clase `torchtext.vocab.GloVe` con los parámetros`name=\"6B\", dim=300`.\n",
        "- Ejecute el método `build_vocab` del objeto `documento_fd` con `max_size=20000` y los demás parámetros que correspondan   \n",
        "  Compruebe posteiormente que al llamar a `documento_fd.vocab.vectors.shape` obtiene las dimensiones `(20002,300)`"
      ]
    },
    {
      "cell_type": "code",
      "metadata": {
        "colab_type": "code",
        "id": "5l65cImC6in6",
        "colab": {
          "base_uri": "https://localhost:8080/",
          "height": 50
        },
        "outputId": "32177a0b-eb96-421d-f557-a79d7d49706a"
      },
      "source": [
        "glove= GloVe(name='6B', dim=300)\n",
        "\n",
        "documento_fd.build_vocab(train_td,max_size=20000,vectors=glove)"
      ],
      "execution_count": 38,
      "outputs": [
        {
          "output_type": "stream",
          "text": [
            ".vector_cache/glove.6B.zip: 862MB [06:31, 2.20MB/s]                           \n",
            "100%|█████████▉| 399188/400000 [00:41<00:00, 9706.21it/s]"
          ],
          "name": "stderr"
        }
      ]
    },
    {
      "cell_type": "code",
      "metadata": {
        "id": "qmUlqvlFz59j",
        "colab_type": "code",
        "colab": {
          "base_uri": "https://localhost:8080/",
          "height": 33
        },
        "outputId": "41012185-3a42-4f4d-af2c-8f86168330dd"
      },
      "source": [
        "documento_fd.vocab.vectors.shape"
      ],
      "execution_count": 39,
      "outputs": [
        {
          "output_type": "execute_result",
          "data": {
            "text/plain": [
              "torch.Size([20002, 300])"
            ]
          },
          "metadata": {
            "tags": []
          },
          "execution_count": 39
        }
      ]
    },
    {
      "cell_type": "code",
      "metadata": {
        "id": "9klSGw6xvdpg",
        "colab_type": "code",
        "colab": {
          "base_uri": "https://localhost:8080/",
          "height": 33
        },
        "outputId": "1a60246c-538f-466b-c911-8cd6c2ddab1d"
      },
      "source": [
        "len(documento_fd.vocab.itos)"
      ],
      "execution_count": 40,
      "outputs": [
        {
          "output_type": "execute_result",
          "data": {
            "text/plain": [
              "20002"
            ]
          },
          "metadata": {
            "tags": []
          },
          "execution_count": 40
        }
      ]
    },
    {
      "cell_type": "markdown",
      "metadata": {
        "colab_type": "text",
        "id": "iQ875UiZYrY4"
      },
      "source": [
        "#### LSTM \n",
        "Finalmete se implementa una LSTM bidireccional. La estructura de la red LSTM ya fue revisada en el material del curso, sin embargo, no se estudió su variante bidireccional. Esta denominación implica que la secuencia de tokens presente en cada texto es procesada desde el primer token hasta el último en una LSTM y desde el úĺtimo hasta el primero en otra LSTM, tal como lo ilustra la siguiente imagen.\n",
        "\n",
        "<center> <img src=\"http://colah.github.io/posts/2015-09-NN-Types-FP/img/RNN-bidirectional.png\" align=\"middle\"> </center>\n",
        "<center> Fuente: <a href=\"http://colah.github.io/posts/2015-09-NN-Types-FP/\"> Colah's Blog </a></center>\n",
        "\n",
        "Por consistencia con la imagen, supongamos que la LSTM bidireccional recibe un documento compuesto por la secuencia de tokens $x_0, \\ldots, x_u$, de largo $i+1$. Sean $\\text{LSTM}$ la RNN que recibe los inputs desde $0$ hasta $i$ y $\\text{LSTM}'$ la RNN que los recibe desde $i$ hasta $0$. A cada input de la secuencia, $x_j$, corresponde un *output*, $y_j$ que consiste en la concatenación $\\left(A(S_j, x_j),A'(S'_{i-j}, x_j)\\right)$. Lo que debe ser considerado como la salida final de la LSTM bidireccional es la primera mitad de $y_i$ y la segunda mitad de $y_0$ pues corresponden a $A(S_i, x_i)$ y $A'(S'_i, x_0)$ respectivamente. Observe que este es output se asocia a la secuencia completa.\n",
        "\n",
        "La LSTM bi-direccional que se implementa está diseñada para usar un *word embedding* fijo, como el que fue calculado en la sección anterior.\n",
        "\n",
        "La estructura de la red es la siguiente:\n",
        "- *Word embedding* pre-entrenado (no deben calcularse gradientes en esta sección de la red), implementado con la clase `torch.nn.Embedding`.\n",
        "- LSTM bidireccional, tomando como salida la concatenación recién explicada e implementada con la clase `torch.nn.LSTM` con los parámetros `batch_first=True` y `bidirectional=True`. \n",
        "- Dropout con probabilidad .5\n",
        "- Capa totalmente conectada con salida de tamaño 1 y función de activación sigmoide.\n",
        "\n",
        "Dado que `~.BucketIterator` entrega un tensor con *paddings* de cero, es necesario transformar el input de `~.LSTM`, de tal forma que esta no procese los ceros del tensor de entrada. Por esta razón al pasar del output de `~.Embedding`, al input de `~.LSTM`, es necesario emplear la función `torch.nn.utils.rnn.pack_padded_sequence` que permite transformar una secuencia con *paddings* de 0, en una secuencia que los oculta. Dicha función es capaz de transformar un input de la forma:\n",
        "```\n",
        "seq = torch.tensor([[4,5,6], [1,2,0], [3,0,0]])\n",
        "lens = [3, 2, 1]\n",
        "packed = pack_padded_sequence(seq, lens, batch_first=True, enforce_sorted=True)\n",
        "```\n",
        "donde el objeto `packed` tendrá la forma:\n",
        "```\n",
        "PackedSequence(data=tensor([4, 1, 3, 5, 2, 6]), batch_sizes=tensor([3, 2, 1]), sorted_indices=None, unsorted_indices=None)\n",
        "```\n",
        "y estará listo para ser procesado como entrada de `~.LSTM`.\n",
        "\n",
        "Sin embargo, el empleo de aquella función, obliga a usar su función inversa, `torch.nn.utils.rnn.pad_packed_sequence`, sobre la salida de `~.LSTM` y así que pasar de un objeto `PackedSequence` a su formato tensorial con *padding* de 0. En consecuencia al emplear:\n",
        "```\n",
        "lstm = nn.LSTM(...)\n",
        "packed_output, _ = lstm(packed)\n",
        "seq_unpacked, lens_unpacked = pad_packed_sequence(packed, batch_first=True)\n",
        "``` \n",
        "Esto permitirá encontrar el output de la LSTM bidireccional en el tensor `seq_unpacked` de tamaño $B \\times T \\times C$, donde $B$ representa el tamaño del *batch*, $T$ el largo de la secuencia más larga del *batch* y $C$ el tamaño de la dimension del espacio de carácteristicas de la salida de `~.LSTM`. \n"
      ]
    },
    {
      "cell_type": "markdown",
      "metadata": {
        "colab_type": "text",
        "id": "e0r7-VImYqgc"
      },
      "source": [
        "##### Pregunta 5\n",
        "\n",
        "1. Defina la clase `Glove6B300BiLSTM` heredando de `torch.nn.Module` y definiendo los métodos:\n",
        "- `__init__`: recibe como parametros `hidden_size`, que regula el parámetro homónimo de `torch.nn.LSTM`; y `text_field` que apunta al `torchtext.data.Field` que ya contiene la representación vectorial densa del *vocabulario* que es utilizado en la capa del *word embedding*.  \n",
        "- `forward`: recibe como argumentos `text` y `text_len` que corresponden a los objetos que entrega `BucketIterator`.  \n",
        "Haga uso de las funciones `~.pack_padded_sequence` con parámetros `batch_first=True, enforce_sorted=True` y `~.pad_packed_sequence`, con parámetro `batch_first=True`. Sea ciudadoso en la selección de los segmentos del tensor de salida de `~.pad_packed_sequence` que deben ser considerados para las capas posteriores.   \n",
        "\n",
        "*Hint*: note que para construir el output de la $\\text{LSTM}$ bidireccional, deberá seleccionar segmentos de un vector de salida y concatenarlos de manera conveniente. Para ello le será de ayuda la variable `text_len`.\n",
        "\n",
        "  \n",
        "Instancie `modelo` como objeto de la clase `Glove6B300BiLSTM` con `hidden_size=128` y `text_field=documento_fd`. Recuerde instanciarlo en el espacio de memoria adecuado mediante el método `to(device)`."
      ]
    },
    {
      "cell_type": "code",
      "metadata": {
        "colab_type": "code",
        "id": "iXgixLg3f_Pc",
        "colab": {}
      },
      "source": [
        "class Glove6B300BiLSTM(nn.Module):\n",
        "  def __init__(self, hidden_size, text_field):\n",
        "    super().__init__()\n",
        "\n",
        "    # Embedding\n",
        "    self.w_embedding = nn.Embedding.from_pretrained(text_field.vocab.vectors)\n",
        "    self.w_embedding.weight.requires_grad = False\n",
        "\n",
        "    #lstm\n",
        "    self.hidden_size = hidden_size\n",
        "    self.lstm = nn.LSTM(input_size=self.w_embedding.embedding_dim,\n",
        "                        hidden_size=self.hidden_size,\n",
        "                        batch_first=True,\n",
        "                        bidirectional=True)\n",
        "\n",
        "    # Dropout\n",
        "    self.dropout = nn.Dropout(0.5)\n",
        "\n",
        "    #sigmoide\n",
        "    self.fc = nn.Linear(self.hidden_size*2,1)\n",
        "    self.sigmoid = nn.Sigmoid()\n",
        "\n",
        "  def forward(self, text, len_text):\n",
        "    embedding = self.w_embedding(text)\n",
        "    pack = pack_padded_sequence(embedding, len_text, batch_first=True, enforce_sorted=True)\n",
        "    outputs, _ = self.lstm(pack)\n",
        "    seq_pad , lens_pad = pad_packed_sequence(outputs,batch_first=True)\n",
        "    versa = seq_pad[:,-1,:self.hidden_size]\n",
        "    reversa = seq_pad[:,0,self.hidden_size:]\n",
        "    x = torch.cat((versa,reversa), dim=1)  \n",
        "    x_2 = self.fc(self.dropout(x))\n",
        "    return self.sigmoid(x_2).view(-1)"
      ],
      "execution_count": 82,
      "outputs": []
    },
    {
      "cell_type": "code",
      "metadata": {
        "id": "5uKE2RRjoklM",
        "colab_type": "code",
        "colab": {}
      },
      "source": [
        "modelo = Glove6B300BiLSTM(hidden_size = 128, text_field = documento_fd)"
      ],
      "execution_count": 83,
      "outputs": []
    },
    {
      "cell_type": "markdown",
      "metadata": {
        "colab_type": "text",
        "id": "dMfKHOKtgMdJ"
      },
      "source": [
        "2. Implemente el ciclo de entrenamiento de la red `Glove6B300BiLSTM`. Para ello use:\n",
        "- Entropía cruzada binaria como funcion de costo - `torch.nn.BCELoss()`\n",
        "- Adam cómo algoritmo de optimización, con `lr=2e-4`\n",
        "- 10 epocas de entrenamiento\n",
        "- Los `BucketIterator` definidos en la pregunta anterior para recorrer los conjuntos de entrenamiento y validación.\n",
        "- Guarde en una lista el historico de valores de la función de costo en el conjunto de entrenamiento y de validación\n",
        "- Al final de cada época guarde el modelo mediante `guardar_modelo` en la ruta `modelos/Glove6B300BiLSTM.h5`, si es que la función de costo sobre el conjunto de validación es menor que la menor función de costo sobre el conjunto de validación observada en épocas anteriores. \n",
        "\n",
        "Al finalizar el entrenamiento, muestre en pantalla un gráfico con el historico de la función de costo en el conjunto de entrenamiento y en el de validación y guardelo en `resultados/Glove6B300BiLSTM/costo_historico.pdf`.\n"
      ]
    },
    {
      "cell_type": "code",
      "metadata": {
        "id": "TdS1nBnpfh4k",
        "colab_type": "code",
        "colab": {}
      },
      "source": [
        "def accuracy_tensor(y_true,y_pred):\n",
        "  vector_pred = y_pred.clone()\n",
        "  vector_pred = vector_pred.cpu().detach().numpy()\n",
        "  vector_pred[vector_pred>0.5]=1\n",
        "  vector_pred[vector_pred<0.5]=0\n",
        "  vector_pred = vector_pred.astype(int)\n",
        "\n",
        "  vector_real = y_true.clone()\n",
        "  vector_real = vector_real.cpu().detach().numpy().astype(int)\n",
        "  return accuracy_score(vector_real,vector_pred)"
      ],
      "execution_count": 84,
      "outputs": []
    },
    {
      "cell_type": "code",
      "metadata": {
        "colab_type": "code",
        "id": "AvYtjhfcgM69",
        "colab": {
          "base_uri": "https://localhost:8080/",
          "height": 1000
        },
        "outputId": "dfd7b3b3-7570-429d-b256-40e74b7361d6"
      },
      "source": [
        "criterio = nn.BCELoss()\n",
        "opt = optim.Adam(modelo.parameters(),lr=2e-4)\n",
        "epochs = 10\n",
        "counter = 0\n",
        "costos_train = []\n",
        "costos_val = []\n",
        "modelo = modelo.to(device)\n",
        "criterio = criterio.to(device)\n",
        "\n",
        "modelo.train()\n",
        "\n",
        "for ep in range(epochs):\n",
        "  for batch in train_iter:\n",
        "    text = batch.pro_X[0]\n",
        "    len_text = batch.pro_X[1]\n",
        "    etiqueta = batch.etiqueta\n",
        "    opt.zero_grad()\n",
        "\n",
        "    predictions = modelo.forward(text=text,len_text=len_text)\n",
        "\n",
        "    loss = criterio(predictions, etiqueta)\n",
        "    loss.backward()\n",
        "            \n",
        "    nn.utils.clip_grad_norm_(modelo.parameters(), 5)\n",
        "\n",
        "    opt.step()\n",
        "    counter += 1\n",
        "    if counter % 20 == 0:\n",
        "      val_loss = []\n",
        "      val_acc = []\n",
        "      for val in val_iter:\n",
        "        text_val = val.pro_X[0]\n",
        "        len_text_val = val.pro_X[1]\n",
        "        etiqueta_val = val.etiqueta\n",
        "\n",
        "        output_val = modelo.forward(text_val, len_text_val)\n",
        "        vl = criterio(etiqueta_val,output_val.data).cpu().numpy()+0\n",
        "        accur = accuracy_tensor(etiqueta_val,output_val)\n",
        "        \n",
        "        val_loss.append(vl)\n",
        "        val_acc.append(accur)\n",
        "\n",
        "      print(\"Epoch: {}/{}...\".format(ep+1, epochs),\n",
        "          \"Step: {}...\".format(counter),\n",
        "          \"Loss: {:.4f}...\".format(loss.item()),\n",
        "          \"Val Loss: {:.4f}...\".format(np.mean(val_loss)),\n",
        "          \"Acurracy medio: {:.4f}\".format(np.mean(val_acc)))\n",
        "      print('-'*30)\n",
        "      print('-'*30,'\\n')\n",
        "    \n",
        "  \n",
        "  media_loss=[]\n",
        "  for train in train_iter:\n",
        "    pred_train = modelo.forward(train.pro_X[0],train.pro_X[1])\n",
        "    meanloss = criterio(train.etiqueta,pred_train.data).cpu().numpy() +0\n",
        "    media_loss.append(meanloss)\n",
        "\n",
        "  costos_train.append(np.mean(media_loss))\n",
        "\n",
        "  media_val_loss=[]\n",
        "  for val in val_iter:\n",
        "    pred_val = modelo.forward(val.pro_X[0],val.pro_X[1])\n",
        "    meanloss_val = criterio(val.etiqueta,pred_val.data).cpu().numpy() +0\n",
        "    media_val_loss.append(meanloss_val)\n",
        "  if costos_val == []:\n",
        "    with open(os.getcwd() + '/modelos/Glove6B300BiLSTM.pk', 'wb') as handler:\n",
        "      pk.dump(modelo, handler)\n",
        "    \n",
        "    costos_val.append(np.mean(media_val_loss))\n",
        "  else:\n",
        "    if np.mean(media_val_loss) < np.min(costos_val):\n",
        "      with open(os.getcwd() + '/modelos/Glove6B300BiLSTM.pk', 'wb') as handler:\n",
        "        pk.dump(modelo, handler)\n",
        "    costos_val.append(np.mean(media_val_loss))\n"
      ],
      "execution_count": 86,
      "outputs": [
        {
          "output_type": "stream",
          "text": [
            "Epoch: 1/10... Step: 20... Loss: 0.6914... Val Loss: 49.6391... Acurracy medio: 0.6179\n",
            "------------------------------\n",
            "------------------------------ \n",
            "\n",
            "Epoch: 1/10... Step: 40... Loss: 0.6815... Val Loss: 49.7564... Acurracy medio: 0.5604\n",
            "------------------------------\n",
            "------------------------------ \n",
            "\n",
            "Epoch: 1/10... Step: 60... Loss: 0.6827... Val Loss: 49.4396... Acurracy medio: 0.5701\n",
            "------------------------------\n",
            "------------------------------ \n",
            "\n",
            "Epoch: 1/10... Step: 80... Loss: 0.6709... Val Loss: 48.0204... Acurracy medio: 0.7759\n",
            "------------------------------\n",
            "------------------------------ \n",
            "\n",
            "Epoch: 1/10... Step: 100... Loss: 0.5213... Val Loss: 43.5936... Acurracy medio: 0.6209\n",
            "------------------------------\n",
            "------------------------------ \n",
            "\n",
            "Epoch: 1/10... Step: 120... Loss: 0.6983... Val Loss: 40.1211... Acurracy medio: 0.7434\n",
            "------------------------------\n",
            "------------------------------ \n",
            "\n"
          ],
          "name": "stdout"
        },
        {
          "output_type": "stream",
          "text": [
            "/usr/local/lib/python3.6/dist-packages/torch/storage.py:34: FutureWarning: pickle support for Storage will be removed in 1.5. Use `torch.save` instead\n",
            "  warnings.warn(\"pickle support for Storage will be removed in 1.5. Use `torch.save` instead\", FutureWarning)\n"
          ],
          "name": "stderr"
        },
        {
          "output_type": "stream",
          "text": [
            "Epoch: 2/10... Step: 140... Loss: 0.6797... Val Loss: 39.4124... Acurracy medio: 0.7671\n",
            "------------------------------\n",
            "------------------------------ \n",
            "\n",
            "Epoch: 2/10... Step: 160... Loss: 0.4933... Val Loss: 44.1537... Acurracy medio: 0.5704\n",
            "------------------------------\n",
            "------------------------------ \n",
            "\n",
            "Epoch: 2/10... Step: 180... Loss: 0.6633... Val Loss: 40.1775... Acurracy medio: 0.7369\n",
            "------------------------------\n",
            "------------------------------ \n",
            "\n",
            "Epoch: 2/10... Step: 200... Loss: 0.4645... Val Loss: 35.5410... Acurracy medio: 0.8012\n",
            "------------------------------\n",
            "------------------------------ \n",
            "\n",
            "Epoch: 2/10... Step: 220... Loss: 0.5322... Val Loss: 33.0197... Acurracy medio: 0.7417\n",
            "------------------------------\n",
            "------------------------------ \n",
            "\n",
            "Epoch: 2/10... Step: 240... Loss: 0.3825... Val Loss: 31.0990... Acurracy medio: 0.7864\n",
            "------------------------------\n",
            "------------------------------ \n",
            "\n",
            "Epoch: 3/10... Step: 260... Loss: 0.3681... Val Loss: 29.1462... Acurracy medio: 0.8051\n",
            "------------------------------\n",
            "------------------------------ \n",
            "\n",
            "Epoch: 3/10... Step: 280... Loss: 0.6992... Val Loss: 48.6055... Acurracy medio: 0.5206\n",
            "------------------------------\n",
            "------------------------------ \n",
            "\n",
            "Epoch: 3/10... Step: 300... Loss: 0.7341... Val Loss: 35.6520... Acurracy medio: 0.7126\n",
            "------------------------------\n",
            "------------------------------ \n",
            "\n",
            "Epoch: 3/10... Step: 320... Loss: 0.3801... Val Loss: 30.0994... Acurracy medio: 0.8187\n",
            "------------------------------\n",
            "------------------------------ \n",
            "\n",
            "Epoch: 3/10... Step: 340... Loss: 0.3491... Val Loss: 30.4775... Acurracy medio: 0.8010\n",
            "------------------------------\n",
            "------------------------------ \n",
            "\n",
            "Epoch: 3/10... Step: 360... Loss: 0.2892... Val Loss: 29.0865... Acurracy medio: 0.8303\n",
            "------------------------------\n",
            "------------------------------ \n",
            "\n",
            "Epoch: 3/10... Step: 380... Loss: 0.5149... Val Loss: 29.2408... Acurracy medio: 0.8003\n",
            "------------------------------\n",
            "------------------------------ \n",
            "\n",
            "Epoch: 4/10... Step: 400... Loss: 0.5597... Val Loss: 32.3572... Acurracy medio: 0.7653\n",
            "------------------------------\n",
            "------------------------------ \n",
            "\n",
            "Epoch: 4/10... Step: 420... Loss: 0.6301... Val Loss: 36.4790... Acurracy medio: 0.6776\n",
            "------------------------------\n",
            "------------------------------ \n",
            "\n",
            "Epoch: 4/10... Step: 440... Loss: 0.5047... Val Loss: 27.2793... Acurracy medio: 0.8059\n",
            "------------------------------\n",
            "------------------------------ \n",
            "\n",
            "Epoch: 4/10... Step: 460... Loss: 0.4533... Val Loss: 28.6494... Acurracy medio: 0.8078\n",
            "------------------------------\n",
            "------------------------------ \n",
            "\n",
            "Epoch: 4/10... Step: 480... Loss: 0.2497... Val Loss: 27.9485... Acurracy medio: 0.8303\n",
            "------------------------------\n",
            "------------------------------ \n",
            "\n",
            "Epoch: 4/10... Step: 500... Loss: 0.2388... Val Loss: 26.7158... Acurracy medio: 0.8284\n",
            "------------------------------\n",
            "------------------------------ \n",
            "\n",
            "Epoch: 5/10... Step: 520... Loss: 0.3316... Val Loss: 26.7835... Acurracy medio: 0.8276\n",
            "------------------------------\n",
            "------------------------------ \n",
            "\n",
            "Epoch: 5/10... Step: 540... Loss: 0.4338... Val Loss: 32.4421... Acurracy medio: 0.7322\n",
            "------------------------------\n",
            "------------------------------ \n",
            "\n",
            "Epoch: 5/10... Step: 560... Loss: 0.4576... Val Loss: 23.6753... Acurracy medio: 0.8431\n",
            "------------------------------\n",
            "------------------------------ \n",
            "\n",
            "Epoch: 5/10... Step: 580... Loss: 0.5852... Val Loss: 25.2751... Acurracy medio: 0.8098\n",
            "------------------------------\n",
            "------------------------------ \n",
            "\n",
            "Epoch: 5/10... Step: 600... Loss: 0.2069... Val Loss: 25.6541... Acurracy medio: 0.8146\n",
            "------------------------------\n",
            "------------------------------ \n",
            "\n",
            "Epoch: 5/10... Step: 620... Loss: 0.1696... Val Loss: 23.9238... Acurracy medio: 0.8070\n",
            "------------------------------\n",
            "------------------------------ \n",
            "\n",
            "Epoch: 6/10... Step: 640... Loss: 0.1647... Val Loss: 25.7114... Acurracy medio: 0.7779\n",
            "------------------------------\n",
            "------------------------------ \n",
            "\n",
            "Epoch: 6/10... Step: 660... Loss: 0.3270... Val Loss: 33.1592... Acurracy medio: 0.7186\n",
            "------------------------------\n",
            "------------------------------ \n",
            "\n",
            "Epoch: 6/10... Step: 680... Loss: 0.3974... Val Loss: 29.7438... Acurracy medio: 0.7664\n",
            "------------------------------\n",
            "------------------------------ \n",
            "\n",
            "Epoch: 6/10... Step: 700... Loss: 0.4904... Val Loss: 24.1339... Acurracy medio: 0.8459\n",
            "------------------------------\n",
            "------------------------------ \n",
            "\n",
            "Epoch: 6/10... Step: 720... Loss: 0.2669... Val Loss: 23.7749... Acurracy medio: 0.8489\n",
            "------------------------------\n",
            "------------------------------ \n",
            "\n",
            "Epoch: 6/10... Step: 740... Loss: 0.2353... Val Loss: 22.3155... Acurracy medio: 0.8518\n",
            "------------------------------\n",
            "------------------------------ \n",
            "\n",
            "Epoch: 6/10... Step: 760... Loss: 0.1654... Val Loss: 22.1104... Acurracy medio: 0.8587\n",
            "------------------------------\n",
            "------------------------------ \n",
            "\n",
            "Epoch: 7/10... Step: 780... Loss: 0.1575... Val Loss: 26.6740... Acurracy medio: 0.7985\n",
            "------------------------------\n",
            "------------------------------ \n",
            "\n",
            "Epoch: 7/10... Step: 800... Loss: 0.1637... Val Loss: 28.8855... Acurracy medio: 0.7664\n",
            "------------------------------\n",
            "------------------------------ \n",
            "\n",
            "Epoch: 7/10... Step: 820... Loss: 0.3576... Val Loss: 23.0433... Acurracy medio: 0.8598\n",
            "------------------------------\n",
            "------------------------------ \n",
            "\n",
            "Epoch: 7/10... Step: 840... Loss: 0.2946... Val Loss: 24.9576... Acurracy medio: 0.8225\n",
            "------------------------------\n",
            "------------------------------ \n",
            "\n",
            "Epoch: 7/10... Step: 860... Loss: 0.2943... Val Loss: 21.9573... Acurracy medio: 0.8558\n",
            "------------------------------\n",
            "------------------------------ \n",
            "\n",
            "Epoch: 7/10... Step: 880... Loss: 0.1521... Val Loss: 21.6230... Acurracy medio: 0.8578\n",
            "------------------------------\n",
            "------------------------------ \n",
            "\n",
            "Epoch: 8/10... Step: 900... Loss: 0.2964... Val Loss: 21.4977... Acurracy medio: 0.8568\n",
            "------------------------------\n",
            "------------------------------ \n",
            "\n",
            "Epoch: 8/10... Step: 920... Loss: 0.1395... Val Loss: 30.6466... Acurracy medio: 0.7265\n",
            "------------------------------\n",
            "------------------------------ \n",
            "\n",
            "Epoch: 8/10... Step: 940... Loss: 0.2923... Val Loss: 21.1398... Acurracy medio: 0.8607\n",
            "------------------------------\n",
            "------------------------------ \n",
            "\n",
            "Epoch: 8/10... Step: 960... Loss: 0.2023... Val Loss: 22.1331... Acurracy medio: 0.8430\n",
            "------------------------------\n",
            "------------------------------ \n",
            "\n",
            "Epoch: 8/10... Step: 980... Loss: 0.1132... Val Loss: 22.2402... Acurracy medio: 0.8489\n",
            "------------------------------\n",
            "------------------------------ \n",
            "\n",
            "Epoch: 8/10... Step: 1000... Loss: 0.1711... Val Loss: 20.1948... Acurracy medio: 0.8550\n",
            "------------------------------\n",
            "------------------------------ \n",
            "\n",
            "Epoch: 9/10... Step: 1020... Loss: 0.1542... Val Loss: 21.8644... Acurracy medio: 0.8481\n",
            "------------------------------\n",
            "------------------------------ \n",
            "\n",
            "Epoch: 9/10... Step: 1040... Loss: 0.0841... Val Loss: 27.5764... Acurracy medio: 0.7655\n",
            "------------------------------\n",
            "------------------------------ \n",
            "\n",
            "Epoch: 9/10... Step: 1060... Loss: 0.3196... Val Loss: 20.6168... Acurracy medio: 0.8579\n",
            "------------------------------\n",
            "------------------------------ \n",
            "\n",
            "Epoch: 9/10... Step: 1080... Loss: 0.3232... Val Loss: 21.6648... Acurracy medio: 0.8628\n",
            "------------------------------\n",
            "------------------------------ \n",
            "\n",
            "Epoch: 9/10... Step: 1100... Loss: 0.2672... Val Loss: 21.6244... Acurracy medio: 0.8558\n",
            "------------------------------\n",
            "------------------------------ \n",
            "\n",
            "Epoch: 9/10... Step: 1120... Loss: 0.1478... Val Loss: 20.2740... Acurracy medio: 0.8481\n",
            "------------------------------\n",
            "------------------------------ \n",
            "\n",
            "Epoch: 9/10... Step: 1140... Loss: 0.2360... Val Loss: 19.4082... Acurracy medio: 0.8637\n",
            "------------------------------\n",
            "------------------------------ \n",
            "\n",
            "Epoch: 10/10... Step: 1160... Loss: 0.5354... Val Loss: 20.7186... Acurracy medio: 0.8452\n",
            "------------------------------\n",
            "------------------------------ \n",
            "\n",
            "Epoch: 10/10... Step: 1180... Loss: 0.5333... Val Loss: 26.3826... Acurracy medio: 0.7917\n",
            "------------------------------\n",
            "------------------------------ \n",
            "\n",
            "Epoch: 10/10... Step: 1200... Loss: 0.4509... Val Loss: 17.6014... Acurracy medio: 0.8674\n",
            "------------------------------\n",
            "------------------------------ \n",
            "\n",
            "Epoch: 10/10... Step: 1220... Loss: 0.3877... Val Loss: 23.7192... Acurracy medio: 0.8303\n",
            "------------------------------\n",
            "------------------------------ \n",
            "\n",
            "Epoch: 10/10... Step: 1240... Loss: 0.3317... Val Loss: 22.3224... Acurracy medio: 0.8462\n",
            "------------------------------\n",
            "------------------------------ \n",
            "\n",
            "Epoch: 10/10... Step: 1260... Loss: 0.3810... Val Loss: 19.9667... Acurracy medio: 0.8500\n",
            "------------------------------\n",
            "------------------------------ \n",
            "\n"
          ],
          "name": "stdout"
        }
      ]
    },
    {
      "cell_type": "code",
      "metadata": {
        "id": "_rz0_EAvwL7R",
        "colab_type": "code",
        "colab": {
          "base_uri": "https://localhost:8080/",
          "height": 443
        },
        "outputId": "c6494305-ae4f-4f7f-af8d-ff4b2a4eb728"
      },
      "source": [
        "plt.figure(figsize=(10,7))\n",
        "plt.plot(costos_val, color = 'b', label='Loss Validación')\n",
        "plt.plot(costos_train, color = 'r', label='Loss Entrenamiento')\n",
        "plt.legend()"
      ],
      "execution_count": 87,
      "outputs": [
        {
          "output_type": "execute_result",
          "data": {
            "text/plain": [
              "<matplotlib.legend.Legend at 0x7fde4ceff160>"
            ]
          },
          "metadata": {
            "tags": []
          },
          "execution_count": 87
        },
        {
          "output_type": "display_data",
          "data": {
            "image/png": "[encoded data removed]",
            "text/plain": [
              "<Figure size 720x504 with 1 Axes>"
            ]
          },
          "metadata": {
            "tags": [],
            "needs_background": "light"
          }
        }
      ]
    },
    {
      "cell_type": "markdown",
      "metadata": {
        "colab_type": "text",
        "id": "j7m7lmgRqeUj"
      },
      "source": [
        "3. Obtenga la predicción de `modelo` sobre el conjunto de prueba y reporte el desempeño del clasificador mediante `evalua_sklearn` con la predicción de `modelo` sobre el conjunto de *prueba*, usando `nombre_clasificador='Glove6B300BiLSTM'`."
      ]
    },
    {
      "cell_type": "code",
      "metadata": {
        "id": "nh8yW48TyBau",
        "colab_type": "code",
        "colab": {}
      },
      "source": [
        "modelo_besto = pd.read_pickle(os.getcwd() + '/modelos/Glove6B300BiLSTM.pk')"
      ],
      "execution_count": 89,
      "outputs": []
    },
    {
      "cell_type": "code",
      "metadata": {
        "id": "aA3UKE1h0PTJ",
        "colab_type": "code",
        "colab": {}
      },
      "source": [
        "news =[]\n",
        "orden =[]\n",
        "labels =[]\n",
        "\n",
        "for test in test_iter:\n",
        "  news.append(test.pro_X[0])\n",
        "  orden.append(test.pro_X[1])\n",
        "  labels.append(test.etiqueta)"
      ],
      "execution_count": 145,
      "outputs": []
    },
    {
      "cell_type": "code",
      "metadata": {
        "id": "LEm0d4DU00Li",
        "colab_type": "code",
        "colab": {}
      },
      "source": [
        "%%capture\n",
        "preds = []\n",
        "labs =[]\n",
        "\n",
        "for i in range(40):\n",
        "  prediccion = modelo_besto.forward(news[i],orden[i]).cpu().detach().numpy()\n",
        "  prediccion[prediccion>0.5]=1\n",
        "  prediccion[prediccion<0.5]=0\n",
        "  preds.append(prediccion.astype(int))\n",
        "\n",
        "  tick = labels[i].cpu().detach().numpy().astype(int)\n",
        "  labs.append(tick)"
      ],
      "execution_count": 146,
      "outputs": []
    },
    {
      "cell_type": "code",
      "metadata": {
        "id": "7Inlrp0I5sKU",
        "colab_type": "code",
        "colab": {}
      },
      "source": [
        "y_pred=[]\n",
        "y_true=[]\n",
        "for i in range(40):\n",
        "  y_pred.extend(preds[i])\n",
        "  y_true.extend(labs[i])"
      ],
      "execution_count": 150,
      "outputs": []
    },
    {
      "cell_type": "code",
      "metadata": {
        "id": "mYsI3lGO-D9h",
        "colab_type": "code",
        "colab": {
          "base_uri": "https://localhost:8080/",
          "height": 411
        },
        "outputId": "7b702e28-bb95-4873-ecd6-bde2d9cde227"
      },
      "source": [
        "evalua_sklearn(y_true,y_pred,'Glove6B300BiLSTM')"
      ],
      "execution_count": 151,
      "outputs": [
        {
          "output_type": "stream",
          "text": [
            "              precision    recall  f1-score   support\n",
            "\n",
            "           0     0.8636    0.8675    0.8655       664\n",
            "           1     0.8519    0.8476    0.8497       597\n",
            "\n",
            "    accuracy                         0.8580      1261\n",
            "   macro avg     0.8577    0.8575    0.8576      1261\n",
            "weighted avg     0.8580    0.8580    0.8580      1261\n",
            "\n"
          ],
          "name": "stdout"
        },
        {
          "output_type": "display_data",
          "data": {
            "image/png": "[encoded data removed]",
            "text/plain": [
              "<Figure size 432x288 with 2 Axes>"
            ]
          },
          "metadata": {
            "tags": [],
            "needs_background": "light"
          }
        }
      ]
    },
    {
      "cell_type": "markdown",
      "metadata": {
        "id": "x2u-RN-dBvE3",
        "colab_type": "text"
      },
      "source": [
        "Creemos que la evaluación de este modelo no es tan bueno como se creía que sería. Sin embargo, viendo otros intentos hemos podido notar que mejora de manera considerable cuando se le da un valor más algo de _epochs_."
      ]
    },
    {
      "cell_type": "code",
      "metadata": {
        "id": "9E5IEbJ2CDeq",
        "colab_type": "code",
        "colab": {}
      },
      "source": [
        ""
      ],
      "execution_count": null,
      "outputs": []
    }
  ]
}